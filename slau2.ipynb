{
 "cells": [
  {
   "cell_type": "code",
   "execution_count": 86,
   "metadata": {},
   "outputs": [],
   "source": [
    "import numpy as np\n",
    "from math import fabs, sqrt, sin, cos\n",
    "eps = 0.0001"
   ]
  },
  {
   "cell_type": "markdown",
   "metadata": {},
   "source": [
    "_____________________"
   ]
  },
  {
   "cell_type": "markdown",
   "metadata": {},
   "source": [
    "### Бессель"
   ]
  },
  {
   "cell_type": "code",
   "execution_count": 11,
   "metadata": {},
   "outputs": [],
   "source": [
    "def Bessel(x, y, dot):\n",
    "    n = len(x)\n",
    "    a = np.zeros(n)\n",
    "    a[0] = y[n-1]\n",
    "    for i in range(1,n):\n",
    "        a[i] =  y[n - 1 - i] - y[n - 1]\n",
    "        for j in range(1,i):\n",
    "            xs = 1\n",
    "            for k in range(j):\n",
    "                xs *= x[n - 1 - i] - x[n - 1 - k]\n",
    "                \n",
    "            a[i] -= a[j] * xs;\n",
    "            \n",
    "        for j in range(i):\n",
    "            a[i] /= x[n - 1 - i] - x[n - 1 - j]\n",
    "    P = 0\n",
    "    for i in range(n):\n",
    "        xs = 1\n",
    "        for j in range(i):\n",
    "            xs *= dot - x[n - 1 - j]\n",
    "        P += a[i] * xs\n",
    "    return P"
   ]
  },
  {
   "cell_type": "code",
   "execution_count": 123,
   "metadata": {},
   "outputs": [
    {
     "name": "stdout",
     "output_type": "stream",
     "text": [
      "x = 0.0 y = 0.0\n",
      "x = 0.1 y = 0.2970013427734373\n",
      "x = 0.2 y = 0.4500000000000001\n",
      "x = 0.30000000000000004 y = 0.5491986083984376\n",
      "x = 0.4 y = 0.6299999999999999\n",
      "x = 0.5 y = 0.7029388427734373\n",
      "x = 0.6000000000000001 y = 0.7699999999999999\n",
      "x = 0.7000000000000001 y = 0.8318939208984376\n",
      "x = 0.8 y = 0.89\n",
      "x = 0.9 y = 0.9458294677734375\n",
      "x = 1.0 y = 1.0\n",
      "x = 1.1 y = 1.0518548583984377\n",
      "x = 1.2000000000000002 y = 1.1\n",
      "x = 1.3 y = 1.1431732177734377\n",
      "x = 1.4000000000000001 y = 1.18\n"
     ]
    }
   ],
   "source": [
    "x = [0.0, 0.2, 0.4, 0.6, 0.8, 1.0, 1.2, 1.4, 1.6]\n",
    "y = [0.00, 0.45, 0.63, 0.77, 0.89, 1.00, 1.10, 1.18, 1.2]\n",
    "for i in np.arange(0, 1.5, 0.1):\n",
    "    print('x =', i, 'y =', Bessel(x, y, i))"
   ]
  },
  {
   "cell_type": "markdown",
   "metadata": {},
   "source": [
    "### Стирлинг"
   ]
  },
  {
   "cell_type": "code",
   "execution_count": 43,
   "metadata": {},
   "outputs": [],
   "source": [
    "def Stirling(x, y, dot):\n",
    "    n = len(x)\n",
    "    fact = temp_1 = temp_2 = k = l = 1\n",
    "    delta = np.zeros((n,n))\n",
    "    h = x[1] - x[0]\n",
    "    s = n // 2\n",
    "    a = x[s]\n",
    "    q = (dot - a) / h;\n",
    "    for i in range(n-1):\n",
    "        delta[i, 0] = y[i + 1] - y[i]\n",
    "    for i in range(1, n-1):\n",
    "        for j in range(n - i -1):\n",
    "            delta[j, i] = delta[j + 1, i - 1] - delta[j, i - 1]\n",
    "    y_1 = y[s]\n",
    "    \n",
    "    for i in range(1, n):\n",
    "        if (i % 2 != 0):\n",
    "            temp_1 *=  q**k - (k-1)**2\n",
    "            k += 1\n",
    "            fact *= i\n",
    "            s = (n - i) // 2\n",
    "            y_1 += (temp_1 / (2 * fact)) * (delta[s, i - 1] + delta[s - 1, i - 1])\n",
    "        else:\n",
    "            temp_2 *= q**2 - (l-1)**2\n",
    "            l += 1\n",
    "            fact *= i\n",
    "            s = (n - i) // 2\n",
    "            y_1 += (temp_2 / (fact)) * (delta[s, i - 1])\n",
    "    return y_1"
   ]
  },
  {
   "cell_type": "code",
   "execution_count": 104,
   "metadata": {},
   "outputs": [
    {
     "name": "stdout",
     "output_type": "stream",
     "text": [
      "x = 0.0 y = 18.08571428571446\n",
      "x = 0.1 y = 4.9651306152344175\n",
      "x = 0.2 y = 1.4065714285714377\n",
      "x = 0.30000000000000004 y = 0.6860241699218758\n",
      "x = 0.4 y = 0.6390000000000001\n",
      "x = 0.5 y = 0.702362060546875\n",
      "x = 0.6000000000000001 y = 0.77\n",
      "x = 0.7000000000000001 y = 0.8319210728236608\n",
      "x = 0.8 y = 0.89\n",
      "x = 0.9 y = 0.9458172781808035\n",
      "x = 1.0 y = 0.9999999999999999\n",
      "x = 1.1 y = 1.0515417480468747\n",
      "x = 1.2000000000000002 y = 1.1030000000000004\n",
      "x = 1.3 y = 1.2265319824218759\n",
      "x = 1.4000000000000001 y = 1.8897142857142932\n"
     ]
    }
   ],
   "source": [
    "x = [0.0, 0.2, 0.4, 0.6, 0.8, 1.0, 1.2, 1.4, 1.6]\n",
    "y = [0.00, 0.45, 0.63, 0.77, 0.89, 1.00, 1.10, 1.18, 1.2]\n",
    "for i in np.arange(0, 1.5, 0.1):\n",
    "    print('x =', i, 'y =', Stirling(x, y, i))"
   ]
  },
  {
   "cell_type": "markdown",
   "metadata": {},
   "source": [
    "_____________"
   ]
  },
  {
   "cell_type": "code",
   "execution_count": 128,
   "metadata": {
    "scrolled": true
   },
   "outputs": [
    {
     "name": "stdout",
     "output_type": "stream",
     "text": [
      "k= 1\n",
      "1.5811388300841898 0.9757048734120374 0.5700000000000001\n",
      "k= 2\n",
      "1.5544006288643546 0.958341269571718 0.5747493218155691\n",
      "k= 3\n",
      "1.55450276867184 0.9562109490782291 0.5850508266044834\n",
      "k= 4\n",
      "1.5539227914480467 0.9560761725440593 0.5860033464145478\n",
      "k= 5\n",
      "1.5538773140792579 0.9560460931914145 0.5860530052424664\n"
     ]
    }
   ],
   "source": [
    "def x_val(x, y, z):\n",
    "    return sqrt((10-0.3*x*z-0.2*z*z)/4)\n",
    "def y_val(x, y, z):\n",
    "    return sqrt((4+0.4*x*y-0.01*x*x)/5)\n",
    "def z_val(x, y, z):\n",
    "    return (4-0.2*z*z-0.01*y*y)/(7*y)\n",
    "\n",
    "def iteration():\n",
    "    x_0 = 2;\n",
    "    y_0 = 1;\n",
    "    z_0 = x = y = z = k = 0;\n",
    "    while (fabs(x_0 - x) + fabs(y_0 - y) + fabs(z_0-z)) / 3 > eps:\n",
    "        x = x_val(x_0, y_0, z_0);\n",
    "        y = y_val(x_0, y_0, z_0);\n",
    "        z = z_val(x_0, y_0, z_0);\n",
    "        x_0, x = x, x_0\n",
    "        y_0, y = y, y_0\n",
    "        z_0, z = z, z_0\n",
    "        k += 1\n",
    "        print('k=', k)\n",
    "        print(x_0,y_0,z_0)\n",
    "    return (x_0, y_0, z_0)\n",
    "x,y,z = iteration()\n",
    "#print(x,y,z)"
   ]
  },
  {
   "cell_type": "markdown",
   "metadata": {},
   "source": [
    "_______"
   ]
  },
  {
   "cell_type": "code",
   "execution_count": 113,
   "metadata": {},
   "outputs": [],
   "source": [
    "def half_division_solution(a, b):\n",
    "    ans = (a + b) / 2\n",
    "    i = 0\n",
    "    while b - a >= 2 * eps:\n",
    "        func = 2 * sin(ans) - ans*ans\n",
    "        func_a = 2 * sin(a) - a*a\n",
    "        if (func_a*func < 0):\n",
    "            b = ans\n",
    "        else:\n",
    "            a = ans\n",
    "        ans = (a + b) / 2\n",
    "        print(a,b)\n",
    "    return ans"
   ]
  },
  {
   "cell_type": "code",
   "execution_count": 114,
   "metadata": {},
   "outputs": [
    {
     "name": "stdout",
     "output_type": "stream",
     "text": [
      "1 1.5\n",
      "1.25 1.5\n",
      "1.375 1.5\n",
      "1.375 1.4375\n",
      "1.375 1.40625\n",
      "1.390625 1.40625\n",
      "1.3984375 1.40625\n",
      "1.40234375 1.40625\n",
      "1.404296875 1.40625\n",
      "1.404296875 1.4052734375\n",
      "1.404296875 1.40478515625\n",
      "1.404296875 1.404541015625\n",
      "1.404296875 1.4044189453125\n"
     ]
    },
    {
     "data": {
      "text/plain": [
       "1.40435791015625"
      ]
     },
     "execution_count": 114,
     "metadata": {},
     "output_type": "execute_result"
    }
   ],
   "source": [
    "half_division_solution(1, 2)"
   ]
  },
  {
   "cell_type": "code",
   "execution_count": 119,
   "metadata": {},
   "outputs": [],
   "source": [
    "def Newton_solution(b):\n",
    "    ans = b\n",
    "    func = 2 * sin(ans) - ans*ans;\n",
    "    func_1 = 2 * cos(ans) - 2*ans;\n",
    "    while fabs(func) > eps:\n",
    "        ans = ans - func / func_1;\n",
    "        func = 2 * sin(ans) - ans*ans;\n",
    "        func_1 = 2 * cos(ans) - 2 * ans;\n",
    "        print(ans, func)\n",
    "    return ans"
   ]
  },
  {
   "cell_type": "code",
   "execution_count": 120,
   "metadata": {},
   "outputs": [
    {
     "name": "stdout",
     "output_type": "stream",
     "text": [
      "5.336868017218815 -30.104695880353745\n",
      "2.1694152280975696 -3.054133122881815\n",
      "1.610647289848265 -0.5957725813913635\n",
      "1.4301634912484071 -0.06511263151170898\n",
      "1.4049259151084963 -0.001266797838249234\n",
      "1.4044150333315215 -5.184108118339026e-07\n"
     ]
    },
    {
     "data": {
      "text/plain": [
       "1.4044150333315215"
      ]
     },
     "execution_count": 120,
     "metadata": {},
     "output_type": "execute_result"
    }
   ],
   "source": [
    "Newton_solution(10)"
   ]
  },
  {
   "cell_type": "code",
   "execution_count": 121,
   "metadata": {},
   "outputs": [],
   "source": [
    "def Aitken_solution(b):\n",
    "    ans_1 = b\n",
    "    func_1 = 2 * sin(ans_1) - ans_1*ans_1\n",
    "    ans = b - eps\n",
    "    func = 2 * sin(ans) - ans*ans\n",
    "    while fabs(func) > eps:\n",
    "        ans_n = ans - (func*(ans_1 - ans)) / (func_1 - func)\n",
    "        ans_1 = ans\n",
    "        func_1 = func\n",
    "        ans = ans_n\n",
    "        func = 2 * sin(ans) - ans*ans\n",
    "        print(ans, func)\n",
    "    return ans\n"
   ]
  },
  {
   "cell_type": "code",
   "execution_count": 122,
   "metadata": {},
   "outputs": [
    {
     "name": "stdout",
     "output_type": "stream",
     "text": [
      "5.336858208148711 -30.10460265117734\n",
      "3.359167236895467 -11.715728576536854\n",
      "2.0991612934416644 -2.679213174413658\n",
      "1.7255853769166105 -1.0015567425204994\n",
      "1.5025614782648924 -0.26234518427606623\n",
      "1.4234105976581195 -0.04778098869741987\n",
      "1.4057846031558037 -0.003397491182899337\n",
      "1.4044353593092171 -5.087888699883969e-05\n"
     ]
    },
    {
     "data": {
      "text/plain": [
       "1.4044353593092171"
      ]
     },
     "execution_count": 122,
     "metadata": {},
     "output_type": "execute_result"
    }
   ],
   "source": [
    "Aitken_solution(10)"
   ]
  }
 ],
 "metadata": {
  "kernelspec": {
   "display_name": "Python 3",
   "language": "python",
   "name": "python3"
  },
  "language_info": {
   "codemirror_mode": {
    "name": "ipython",
    "version": 3
   },
   "file_extension": ".py",
   "mimetype": "text/x-python",
   "name": "python",
   "nbconvert_exporter": "python",
   "pygments_lexer": "ipython3",
   "version": "3.7.1"
  }
 },
 "nbformat": 4,
 "nbformat_minor": 2
}
