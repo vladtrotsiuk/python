{
 "cells": [
  {
   "cell_type": "markdown",
   "metadata": {},
   "source": [
    "# Introduction to blockchain HW 1"
   ]
  },
  {
   "cell_type": "markdown",
   "metadata": {},
   "source": [
    "## Problem 1 (10 points)\n",
    "\n",
    "Assume that at the end of the term an instructor uses an RSA Public Key Cryptosystem to sign the grades sent to students and to the Education Office. He signs each grade with his private key and transmits both the grade and the signature in a secure manner encrypted with a public key. After you decrypt the message you use his public key to decipher the signature and verify the grade. Assume the cryptosystem has the following features: n=55, e=33 and that the grading system features integer grades from 0 to 10. You have received the grade-signature pairs 8||13 and 6||41"
   ]
  },
  {
   "cell_type": "markdown",
   "metadata": {},
   "source": [
    "1.Verify that the grades you received are indeed originating from the instructor showing just intermediate results of your calculation (2 points)"
   ]
  },
  {
   "cell_type": "code",
   "execution_count": 323,
   "metadata": {},
   "outputs": [],
   "source": [
    "def res_decrypt(code):\n",
    "    return pow(code, 33, 55)"
   ]
  },
  {
   "cell_type": "code",
   "execution_count": 324,
   "metadata": {},
   "outputs": [
    {
     "name": "stdout",
     "output_type": "stream",
     "text": [
      "13^33 mod 55 =  8\n",
      "True\n"
     ]
    }
   ],
   "source": [
    "print(\"13^33 mod 55 = \", res_decrypt(13))\n",
    "print(res_decrypt(13) == 8)"
   ]
  },
  {
   "cell_type": "code",
   "execution_count": 328,
   "metadata": {},
   "outputs": [
    {
     "name": "stdout",
     "output_type": "stream",
     "text": [
      "41^33 mod 55 =  6\n",
      "True\n"
     ]
    }
   ],
   "source": [
    "print(\"41^33 mod 55 = \", res_decrypt(41))\n",
    "print(res_decrypt(41) == 6)"
   ]
  },
  {
   "cell_type": "markdown",
   "metadata": {},
   "source": [
    "2.Given the information above only can you fabricate the instructors’ signature for another grade? If yes, for which grade and how? (3 points)"
   ]
  },
  {
   "cell_type": "code",
   "execution_count": 329,
   "metadata": {},
   "outputs": [],
   "source": [
    "i = 2\n",
    "while pow(8,i,55) != 13:\n",
    "    i += 1"
   ]
  },
  {
   "cell_type": "code",
   "execution_count": 330,
   "metadata": {},
   "outputs": [
    {
     "data": {
      "text/plain": [
       "41"
      ]
     },
     "execution_count": 330,
     "metadata": {},
     "output_type": "execute_result"
    }
   ],
   "source": [
    "pow(6, i, 55)"
   ]
  },
  {
   "cell_type": "markdown",
   "metadata": {},
   "source": [
    "We fabricate insructor's key because he has chose too small numbers. Now I can fabricate all numbers."
   ]
  },
  {
   "cell_type": "markdown",
   "metadata": {},
   "source": [
    "Also, if we knew signatures for 2 and 3, we know signature for 6. It's problem of simple encription. If we encrypt, for example, a sum of certain grades, it will be harder to hack it."
   ]
  },
  {
   "cell_type": "markdown",
   "metadata": {},
   "source": [
    "3.What would you advise the instructor to do so as to prevent such fabrication? (2 points)"
   ]
  },
  {
   "cell_type": "markdown",
   "metadata": {},
   "source": [
    "I advise to choose numbers that have more prime dividers. It will be harder to hack this."
   ]
  },
  {
   "cell_type": "markdown",
   "metadata": {},
   "source": [
    "4.Discuss what can go wrong in case the instructor sends a grade secretly by first enciphering it with a student’s public key, the signing it with his private key. Provide an example (3 points)"
   ]
  },
  {
   "cell_type": "markdown",
   "metadata": {},
   "source": [
    "$m = D_s(E_p(m)) = E_p(D_s(m))$"
   ]
  },
  {
   "cell_type": "code",
   "execution_count": 331,
   "metadata": {},
   "outputs": [
    {
     "data": {
      "text/plain": [
       "8"
      ]
     },
     "execution_count": 331,
     "metadata": {},
     "output_type": "execute_result"
    }
   ],
   "source": [
    "pow(pow(8,33,55), 17,55)"
   ]
  },
  {
   "cell_type": "markdown",
   "metadata": {},
   "source": [
    "## Problem 2 (10 points)"
   ]
  },
  {
   "cell_type": "markdown",
   "metadata": {},
   "source": [
    "El-Gamal is videly used cryptographic standart. In this task you will implement El-Gamal encryption scheme using Python"
   ]
  },
  {
   "cell_type": "markdown",
   "metadata": {},
   "source": [
    "1.Implement function for generating keys. The function must generate big random prime number (problem of generating big prime numbers was discussed during seminar after lecture 3). (2 points)"
   ]
  },
  {
   "cell_type": "code",
   "execution_count": 287,
   "metadata": {},
   "outputs": [],
   "source": [
    "# Python implementation of Fermat's primality test to generate prime numbers of any bit length.\n",
    "\n",
    "from random import randint\n",
    "\n",
    "def is_prime(num, test_count):\n",
    "    if num == 1:\n",
    "        return False\n",
    "    if test_count >= num:\n",
    "        test_count = num - 1\n",
    "    for x in range(test_count):\n",
    "        val = randint(1, num - 1)\n",
    "        if pow(val, num-1, num) != 1:\n",
    "            return False\n",
    "    return True\n",
    "\n",
    "def generate_big_prime(n, test_count=1000):\n",
    "    found_prime = False\n",
    "    while not found_prime:\n",
    "        p = randint(2**(n-1), 2**n)\n",
    "        if is_prime(p, test_count):\n",
    "            return p"
   ]
  },
  {
   "cell_type": "markdown",
   "metadata": {},
   "source": [
    "2.Implement functions that realize the encryption and decryption functions. (2 points)"
   ]
  },
  {
   "cell_type": "markdown",
   "metadata": {},
   "source": [
    "Key generation mechanism\n",
    "\n",
    "1. Choose big prime number p\n",
    "2. Choose two random numbers g and x \n",
    "3. Compute $y=g^x mod p$\n",
    "\n",
    "Public key(y,g,p)\n",
    "\n",
    "Secret key(x,g,p)"
   ]
  },
  {
   "cell_type": "markdown",
   "metadata": {},
   "source": [
    "Encryption mechanism\n",
    "1. Let message $M<p$\n",
    "2. Choose random number k s.t.  1$<k<p−1$\n",
    "3. Compute $a=g^k mod p$ and $b = y^k M mod p$ \n",
    "\n",
    "Ciphertext(a,b)"
   ]
  },
  {
   "cell_type": "code",
   "execution_count": 288,
   "metadata": {},
   "outputs": [],
   "source": [
    "def encryption_mechanism(message, y, g, p):\n",
    "    if (message >= p):\n",
    "        raise Exception(\"Message must be < p\")\n",
    "    \n",
    "    k = randint(1, p-1)\n",
    "    a = pow(g, k, p)\n",
    "    b = (pow(y, k) * message) % p\n",
    "    return a, b"
   ]
  },
  {
   "cell_type": "markdown",
   "metadata": {},
   "source": [
    "Decryption mechanism\n",
    "$$M = \\frac{b}{a^x}mod p$$"
   ]
  },
  {
   "cell_type": "code",
   "execution_count": 289,
   "metadata": {},
   "outputs": [],
   "source": [
    "def decryption_mechanism(a, b, x, g, p):\n",
    "    return (b * pow(a, p-1-x)) % p"
   ]
  },
  {
   "cell_type": "markdown",
   "metadata": {},
   "source": [
    "3.Test your functions on random values and show that your realization works correctly (1 point)"
   ]
  },
  {
   "cell_type": "code",
   "execution_count": 290,
   "metadata": {},
   "outputs": [
    {
     "name": "stdout",
     "output_type": "stream",
     "text": [
      "p=843209, g=55, x=87, y=93442\n",
      "Initial message: 69183\n",
      "Encrypted_message: a - 637615, b - 828164\n",
      "Decrypted_message: 69183\n"
     ]
    }
   ],
   "source": [
    "n = 20\n",
    "p = generate_big_prime(n) \n",
    "g = randint(1, 100)\n",
    "x = randint(1, 100) # private key\n",
    "y = pow(g, x, p) # public key\n",
    "print(\"p=%i, g=%i, x=%i, y=%i\" % (p, g, x, y))\n",
    "\n",
    "message = randint(1, 1e5)\n",
    "print(\"Initial message: %i\" % message)\n",
    "\n",
    "a, b =  encryption_mechanism(message, y, g, p)\n",
    "print(\"Encrypted_message: a - %i, b - %i\" % (a, b))\n",
    "\n",
    "decrypted_message = decryption_mechanism(a, b, x, g, p)\n",
    "print(\"Decrypted_message: %i\" % decrypted_message)"
   ]
  },
  {
   "cell_type": "markdown",
   "metadata": {},
   "source": [
    "4.Implement functions that realize creation and verification of digital signature (2 points)"
   ]
  },
  {
   "cell_type": "markdown",
   "metadata": {},
   "source": [
    "Sign(privatekey, m)\n",
    "\n",
    "Choose arbitrary $k$ s.t. $(k, p − 1) = 1$\n",
    "\n",
    "$a = g^k mod p$\n",
    "\n",
    "$b = (m − xa)k^{−1} mod (p − 1)$\n",
    "\n",
    "$ \\sigma = (a, b)$"
   ]
  },
  {
   "cell_type": "code",
   "execution_count": 291,
   "metadata": {},
   "outputs": [],
   "source": [
    "def gcd(a,b): \n",
    "    if(b == 0): \n",
    "        return a \n",
    "    else: \n",
    "        return gcd(b, a%b) \n",
    "    \n",
    "def generate_less_than(p):\n",
    "    found_gcd_1 = False\n",
    "    while not found_gcd_1:\n",
    "        k = randint(1,p-1)\n",
    "        if gcd(k,p-1) == 1:\n",
    "            return k"
   ]
  },
  {
   "cell_type": "code",
   "execution_count": 292,
   "metadata": {},
   "outputs": [],
   "source": [
    "# Part of find_inverse below\n",
    "# See: http://en.wikipedia.org/wiki/Extended_Euclidean_algorithm\n",
    "def eea(a,b):\n",
    "    if b==0:return (1,0)\n",
    "    (q,r) = (a//b,a%b)\n",
    "    (s,t) = eea(b,r)\n",
    "    return (t, s-(q*t) )\n",
    "\n",
    "# Find the multiplicative inverse of x (mod y)\n",
    "# see: http://en.wikipedia.org/wiki/Modular_multiplicative_inverse\n",
    "def find_inverse(x,y):\n",
    "    inv = eea(x,y)[0]\n",
    "    if inv < 1: inv += y #we only want positive values\n",
    "    return inv"
   ]
  },
  {
   "cell_type": "code",
   "execution_count": 293,
   "metadata": {},
   "outputs": [],
   "source": [
    "def sign(x, g, p, m):\n",
    "    k = generate_less_than(p)\n",
    "    a = pow(g, k, p)\n",
    "    b = ((m - x*a) * find_inverse(k,p-1)) % (p-1)\n",
    "    return (a, b)"
   ]
  },
  {
   "cell_type": "markdown",
   "metadata": {
    "collapsed": true
   },
   "source": [
    "Verify(publickey, m, $\\sigma$): $y^a a^b mod p = g^m mod p$"
   ]
  },
  {
   "cell_type": "code",
   "execution_count": 294,
   "metadata": {},
   "outputs": [],
   "source": [
    "def verify(a, b, y, g, p, m):\n",
    "    return ((pow(y,a) * pow(a,b)) % p == pow(g,m,p))"
   ]
  },
  {
   "cell_type": "markdown",
   "metadata": {},
   "source": [
    "5.Test your functions on random values and show that your algorithm works correctly (1 point)"
   ]
  },
  {
   "cell_type": "code",
   "execution_count": 295,
   "metadata": {},
   "outputs": [],
   "source": [
    "(a, b) = sign(x, g, p, message)"
   ]
  },
  {
   "cell_type": "code",
   "execution_count": 296,
   "metadata": {},
   "outputs": [],
   "source": [
    "verification = verify(a, b, y, g, p, message)"
   ]
  },
  {
   "cell_type": "code",
   "execution_count": 297,
   "metadata": {},
   "outputs": [
    {
     "name": "stdout",
     "output_type": "stream",
     "text": [
      "All is right\n"
     ]
    }
   ],
   "source": [
    "if (verification):\n",
    "    print('All is right')\n",
    "else:\n",
    "    print('Something went wrong')"
   ]
  },
  {
   "cell_type": "code",
   "execution_count": 63,
   "metadata": {},
   "outputs": [],
   "source": [
    "verification = verify(a-1, b, y, g, p, message)"
   ]
  },
  {
   "cell_type": "code",
   "execution_count": 64,
   "metadata": {},
   "outputs": [
    {
     "name": "stdout",
     "output_type": "stream",
     "text": [
      "Something went wrong\n"
     ]
    }
   ],
   "source": [
    "if (verification):\n",
    "    print('All is right')\n",
    "else:\n",
    "    print('Something went wrong')"
   ]
  },
  {
   "cell_type": "markdown",
   "metadata": {},
   "source": [
    "## Problem 3 (15 points)"
   ]
  },
  {
   "cell_type": "markdown",
   "metadata": {},
   "source": [
    "1.Implement SHA256 (https://en.wikipedia.org/wiki/SHA-2) hashing algorithm using the pseudo-code below. Note the great increase in mixing between bits of the w[16..63] words compared to SHA-1 (10 points)"
   ]
  },
  {
   "cell_type": "code",
   "execution_count": 280,
   "metadata": {},
   "outputs": [],
   "source": [
    "initial_hash_values=[\n",
    "'6a09e667','bb67ae85','3c6ef372','a54ff53a',\n",
    "'510e527f','9b05688c','1f83d9ab','5be0cd19'\n",
    "]\n",
    "\n",
    "sha_256_constants=[\n",
    "'428a2f98','71374491','b5c0fbcf','e9b5dba5',\n",
    "'3956c25b','59f111f1','923f82a4','ab1c5ed5',\n",
    "'d807aa98','12835b01','243185be','550c7dc3',\n",
    "'72be5d74','80deb1fe','9bdc06a7','c19bf174',\n",
    "'e49b69c1','efbe4786','0fc19dc6','240ca1cc',\n",
    "'2de92c6f','4a7484aa','5cb0a9dc','76f988da',\n",
    "'983e5152','a831c66d','b00327c8','bf597fc7',\n",
    "'c6e00bf3','d5a79147','06ca6351','14292967',\n",
    "'27b70a85','2e1b2138','4d2c6dfc','53380d13',\n",
    "'650a7354','766a0abb','81c2c92e','92722c85',\n",
    "'a2bfe8a1','a81a664b','c24b8b70','c76c51a3',\n",
    "'d192e819','d6990624','f40e3585','106aa070',\n",
    "'19a4c116','1e376c08','2748774c','34b0bcb5',\n",
    "'391c0cb3','4ed8aa4a','5b9cca4f','682e6ff3',\n",
    "'748f82ee','78a5636f','84c87814','8cc70208',\n",
    "'90befffa','a4506ceb','bef9a3f7','c67178f2'\n",
    "]\n",
    "\n",
    "def bin_return(dec):\n",
    "    return(str(format(dec,'b')))\n",
    "\n",
    "def bin_8bit(dec):\n",
    "    return(str(format(dec,'08b')))\n",
    "\n",
    "def bin_32bit(dec):\n",
    "    return(str(format(dec,'032b')))\n",
    "\n",
    "def bin_64bit(dec):\n",
    "    return(str(format(dec,'064b')))\n",
    "\n",
    "def hex_return(dec):\n",
    "    return(str(format(dec,'x')))\n",
    "\n",
    "def dec_return_bin(bin_string):\n",
    "    return(int(bin_string,2))\n",
    "\n",
    "def dec_return_hex(hex_string):\n",
    "    return(int(hex_string,16))\n",
    "\n",
    "def L_P(SET,n):\n",
    "    to_return=[]\n",
    "    j=0\n",
    "    k=n\n",
    "    while k<len(SET)+1:\n",
    "        to_return.append(SET[j:k])\n",
    "        j=k\n",
    "        k+=n \n",
    "    return(to_return)\n",
    "\n",
    "def s_l(bit_string):\n",
    "    bit_list=[]\n",
    "    for i in range(len(bit_string)):\n",
    "        bit_list.append(bit_string[i])\n",
    "    return(bit_list)\n",
    "\n",
    "def l_s(bit_list):\n",
    "    bit_string=''\n",
    "    for i in range(len(bit_list)):\n",
    "        bit_string+=bit_list[i]\n",
    "    return(bit_string)\n",
    "\n",
    "def rotate_right(bit_string,n):\n",
    "    bit_list = s_l(bit_string)\n",
    "    count=0\n",
    "    while count <= n-1:\n",
    "        list_main=list(bit_list)\n",
    "        var_0=list_main.pop(-1)\n",
    "        list_main=list([var_0]+list_main)\n",
    "        bit_list=list(list_main)\n",
    "        count+=1\n",
    "    return(l_s(list_main))\n",
    "\n",
    "def shift_right(bit_string,n):\n",
    "    bit_list=s_l(bit_string)\n",
    "    count=0\n",
    "    while count <= n-1:\n",
    "        bit_list.pop(-1)\n",
    "        count+=1\n",
    "    front_append=['0']*n\n",
    "    return(l_s(front_append+bit_list))\n",
    "\n",
    "def mod_32_addition(input_set):\n",
    "    value=0\n",
    "    for i in range(len(input_set)):\n",
    "        value+=input_set[i]\n",
    "    mod_32 = 4294967296\n",
    "    return(value%mod_32)\n",
    "\n",
    "def xor_2str(bit_string_1,bit_string_2):\n",
    "    xor_list=[]\n",
    "    for i in range(len(bit_string_1)):\n",
    "        if bit_string_1[i]=='0' and bit_string_2[i]=='0':\n",
    "            xor_list.append('0')\n",
    "        if bit_string_1[i]=='1' and bit_string_2[i]=='1':\n",
    "            xor_list.append('0')\n",
    "        if bit_string_1[i]=='0' and bit_string_2[i]=='1':\n",
    "            xor_list.append('1')\n",
    "        if bit_string_1[i]=='1' and bit_string_2[i]=='0':\n",
    "            xor_list.append('1')\n",
    "    return(l_s(xor_list))\n",
    "\n",
    "def and_2str(bit_string_1,bit_string_2):\n",
    "    and_list=[]\n",
    "    for i in range(len(bit_string_1)):\n",
    "        if bit_string_1[i]=='1' and bit_string_2[i]=='1':\n",
    "            and_list.append('1')\n",
    "        else:\n",
    "            and_list.append('0')\n",
    "\n",
    "    return(l_s(and_list))\n",
    "\n",
    "def or_2str(bit_string_1,bit_string_2):\n",
    "    or_list=[]\n",
    "    for i in range(len(bit_string_1)):\n",
    "        if bit_string_1[i]=='0' and bit_string_2[i]=='0':\n",
    "            or_list.append('0')\n",
    "        else:\n",
    "            or_list.append('1')\n",
    "    return(l_s(or_list))\n",
    "\n",
    "def not_str(bit_string):\n",
    "    not_list=[]\n",
    "    for i in range(len(bit_string)):\n",
    "        if bit_string[i]=='0':\n",
    "            not_list.append('1')\n",
    "        else:\n",
    "            not_list.append('0')\n",
    "    return(l_s(not_list))\n",
    "\n",
    "'''\n",
    "SHA-256 Specific Functions:\n",
    "'''\n",
    "\n",
    "def Ch(x,y,z):\n",
    "    return(xor_2str(and_2str(x,y),and_2str(not_str(x),z)))\n",
    "\n",
    "def Maj(x,y,z):\n",
    "    return(xor_2str(xor_2str(and_2str(x,y),and_2str(x,z)),and_2str(y,z)))\n",
    "\n",
    "def e_0(x):\n",
    "    return(xor_2str(xor_2str(rotate_right(x,2),rotate_right(x,13)),rotate_right(x,22)))\n",
    "\n",
    "def e_1(x):\n",
    "    return(xor_2str(xor_2str(rotate_right(x,6),rotate_right(x,11)),rotate_right(x,25)))\n",
    "\n",
    "def s_0(x):\n",
    "    return(xor_2str(xor_2str(rotate_right(x,7),rotate_right(x,18)),shift_right(x,3)))\n",
    "\n",
    "def s_1(x):\n",
    "    return(xor_2str(xor_2str(rotate_right(x,17),rotate_right(x,19)),shift_right(x,10)))\n",
    "\n",
    "def message_pad(bit_list):\n",
    "    pad_one = bit_list + '1'\n",
    "    pad_len = len(pad_one)\n",
    "    k=0\n",
    "    while ((pad_len+k)-448)%512 != 0:\n",
    "        k+=1\n",
    "    back_append_0 = '0'*k\n",
    "    back_append_1 = bin_64bit(len(bit_list))\n",
    "    return(pad_one+back_append_0+back_append_1)\n",
    "\n",
    "def message_bit_return(string_input):\n",
    "    bit_list=[]\n",
    "    for i in range(len(string_input)):\n",
    "        bit_list.append(bin_8bit(ord(string_input[i])))\n",
    "    return(l_s(bit_list))\n",
    "\n",
    "def message_pre_pro(input_string):\n",
    "    bit_main = message_bit_return(input_string)\n",
    "    return(message_pad(bit_main))\n",
    "\n",
    "def message_parsing(input_string):\n",
    "    return(L_P(message_pre_pro(input_string),32))\n",
    "\n",
    "def message_schedule(index,w_t):\n",
    "    new_word = bin_32bit(mod_32_addition([int(s_1(w_t[index-2]),2),int(w_t[index-7],2),int(s_0(w_t[index-15]),2),int(w_t[index-16],2)]))\n",
    "    return(new_word)\n",
    "\n",
    "'''\n",
    "This example of SHA_256 works for an input string <56 characters.\n",
    "'''\n",
    "\n",
    "def sha_256(input_string):\n",
    "    w_t=message_parsing(input_string)\n",
    "    a=bin_32bit(dec_return_hex(initial_hash_values[0]))\n",
    "    b=bin_32bit(dec_return_hex(initial_hash_values[1]))\n",
    "    c=bin_32bit(dec_return_hex(initial_hash_values[2]))\n",
    "    d=bin_32bit(dec_return_hex(initial_hash_values[3]))\n",
    "    e=bin_32bit(dec_return_hex(initial_hash_values[4]))\n",
    "    f=bin_32bit(dec_return_hex(initial_hash_values[5]))\n",
    "    g=bin_32bit(dec_return_hex(initial_hash_values[6]))\n",
    "    h=bin_32bit(dec_return_hex(initial_hash_values[7]))\n",
    "    for i in range(0,64):\n",
    "        if i <= 15: \n",
    "            t_1=mod_32_addition([int(h,2),int(e_1(e),2),int(Ch(e,f,g),2),int(sha_256_constants[i],16),int(w_t[i],2)])\n",
    "            t_2=mod_32_addition([int(e_0(a),2),int(Maj(a,b,c),2)])\n",
    "            h=g\n",
    "            g=f\n",
    "            f=e\n",
    "            e=mod_32_addition([int(d,2),t_1])\n",
    "            d=c\n",
    "            c=b\n",
    "            b=a \n",
    "            a=mod_32_addition([t_1,t_2])\n",
    "            a=bin_32bit(a)\n",
    "            e=bin_32bit(e)\n",
    "        if i > 15:\n",
    "            w_t.append(message_schedule(i,w_t))\n",
    "            t_1=mod_32_addition([int(h,2),int(e_1(e),2),int(Ch(e,f,g),2),int(sha_256_constants[i],16),int(w_t[i],2)])\n",
    "            t_2=mod_32_addition([int(e_0(a),2),int(Maj(a,b,c),2)])\n",
    "            h=g\n",
    "            g=f\n",
    "            f=e\n",
    "            e=mod_32_addition([int(d,2),t_1])\n",
    "            d=c\n",
    "            c=b\n",
    "            b=a \n",
    "            a=mod_32_addition([t_1,t_2])\n",
    "            a=bin_32bit(a)\n",
    "            e=bin_32bit(e)\n",
    "    hash_0 = mod_32_addition([dec_return_hex(initial_hash_values[0]),int(a,2)])\n",
    "    hash_1 = mod_32_addition([dec_return_hex(initial_hash_values[1]),int(b,2)])\n",
    "    hash_2 = mod_32_addition([dec_return_hex(initial_hash_values[2]),int(c,2)])\n",
    "    hash_3 = mod_32_addition([dec_return_hex(initial_hash_values[3]),int(d,2)])\n",
    "    hash_4 = mod_32_addition([dec_return_hex(initial_hash_values[4]),int(e,2)])\n",
    "    hash_5 = mod_32_addition([dec_return_hex(initial_hash_values[5]),int(f,2)])\n",
    "    hash_6 = mod_32_addition([dec_return_hex(initial_hash_values[6]),int(g,2)])\n",
    "    hash_7 = mod_32_addition([dec_return_hex(initial_hash_values[7]),int(h,2)])\n",
    "    final_hash = (hex_return(hash_0),\n",
    "                  hex_return(hash_1),\n",
    "                  hex_return(hash_2),\n",
    "                  hex_return(hash_3),\n",
    "                  hex_return(hash_4),\n",
    "                  hex_return(hash_5),\n",
    "                  hex_return(hash_6),\n",
    "                  hex_return(hash_7))\n",
    "    return(final_hash) "
   ]
  },
  {
   "cell_type": "raw",
   "metadata": {},
   "source": [
    "Note 1: All variables are 32 bit unsigned integers and addition is done modulo 2^32\n",
    "Note 2: For each round, there is one round constant k[i] and one entry in the message schedule array w[i], 0 ≤ i ≤ 63\n",
    "Note 3: The compression function uses 8 working variables, a through h\n",
    "Note 4: Big-endian convention is used when expressing the constants in this pseudocode,\n",
    "    and when parsing message block data from bytes to words, for example,\n",
    "    the first word of the input message \"abc\" after padding is 0x61626380\n",
    "\n",
    "Initialize hash values:\n",
    "(first 32 bits of the fractional parts of the square roots of the first 8 primes 2..19):\n",
    "h0 := 0x6a09e667\n",
    "h1 := 0xbb67ae85\n",
    "h2 := 0x3c6ef372\n",
    "h3 := 0xa54ff53a\n",
    "h4 := 0x510e527f\n",
    "h5 := 0x9b05688c\n",
    "h6 := 0x1f83d9ab\n",
    "h7 := 0x5be0cd19\n",
    "\n",
    "Initialize array of round constants:\n",
    "(first 32 bits of the fractional parts of the cube roots of the first 64 primes 2..311):\n",
    "k[0..63] :=\n",
    "   0x428a2f98, 0x71374491, 0xb5c0fbcf, 0xe9b5dba5, 0x3956c25b, 0x59f111f1, 0x923f82a4, 0xab1c5ed5,\n",
    "   0xd807aa98, 0x12835b01, 0x243185be, 0x550c7dc3, 0x72be5d74, 0x80deb1fe, 0x9bdc06a7, 0xc19bf174,\n",
    "   0xe49b69c1, 0xefbe4786, 0x0fc19dc6, 0x240ca1cc, 0x2de92c6f, 0x4a7484aa, 0x5cb0a9dc, 0x76f988da,\n",
    "   0x983e5152, 0xa831c66d, 0xb00327c8, 0xbf597fc7, 0xc6e00bf3, 0xd5a79147, 0x06ca6351, 0x14292967,\n",
    "   0x27b70a85, 0x2e1b2138, 0x4d2c6dfc, 0x53380d13, 0x650a7354, 0x766a0abb, 0x81c2c92e, 0x92722c85,\n",
    "   0xa2bfe8a1, 0xa81a664b, 0xc24b8b70, 0xc76c51a3, 0xd192e819, 0xd6990624, 0xf40e3585, 0x106aa070,\n",
    "   0x19a4c116, 0x1e376c08, 0x2748774c, 0x34b0bcb5, 0x391c0cb3, 0x4ed8aa4a, 0x5b9cca4f, 0x682e6ff3,\n",
    "   0x748f82ee, 0x78a5636f, 0x84c87814, 0x8cc70208, 0x90befffa, 0xa4506ceb, 0xbef9a3f7, 0xc67178f2\n",
    "\n",
    "Pre-processing (Padding):\n",
    "begin with the original message of length L bits\n",
    "append a single '1' bit\n",
    "append K '0' bits, where K is the minimum number >= 0 such that L + 1 + K + 64 is a multiple of 512\n",
    "append L as a 64-bit big-endian integer, making the total post-processed length a multiple of 512 bits\n",
    "\n",
    "Process the message in successive 512-bit chunks:\n",
    "break message into 512-bit chunks\n",
    "for each chunk\n",
    "    create a 64-entry message schedule array w[0..63] of 32-bit words\n",
    "    (The initial values in w[0..63] don't matter, so many implementations zero them here)\n",
    "    copy chunk into first 16 words w[0..15] of the message schedule array\n",
    "\n",
    "    Extend the first 16 words into the remaining 48 words w[16..63] of the message schedule array:\n",
    "    for i from 16 to 63\n",
    "        s0 := (w[i-15] rightrotate 7) xor (w[i-15] rightrotate 18) xor (w[i-15] rightshift 3)\n",
    "        s1 := (w[i-2] rightrotate 17) xor (w[i-2] rightrotate 19) xor (w[i-2] rightshift 10)\n",
    "        w[i] := w[i-16] + s0 + w[i-7] + s1\n",
    "\n",
    "    Initialize working variables to current hash value:\n",
    "    a := h0\n",
    "    b := h1\n",
    "    c := h2\n",
    "    d := h3\n",
    "    e := h4\n",
    "    f := h5\n",
    "    g := h6\n",
    "    h := h7\n",
    "\n",
    "    Compression function main loop:\n",
    "    for i from 0 to 63\n",
    "        S1 := (e rightrotate 6) xor (e rightrotate 11) xor (e rightrotate 25)\n",
    "        ch := (e and f) xor ((not e) and g)\n",
    "        temp1 := h + S1 + ch + k[i] + w[i]\n",
    "        S0 := (a rightrotate 2) xor (a rightrotate 13) xor (a rightrotate 22)\n",
    "        maj := (a and b) xor (a and c) xor (b and c)\n",
    "        temp2 := S0 + maj\n",
    " \n",
    "        h := g\n",
    "        g := f\n",
    "        f := e\n",
    "        e := d + temp1\n",
    "        d := c\n",
    "        c := b\n",
    "        b := a\n",
    "        a := temp1 + temp2\n",
    "\n",
    "    Add the compressed chunk to the current hash value:\n",
    "    h0 := h0 + a\n",
    "    h1 := h1 + b\n",
    "    h2 := h2 + c\n",
    "    h3 := h3 + d\n",
    "    h4 := h4 + e\n",
    "    h5 := h5 + f\n",
    "    h6 := h6 + g\n",
    "    h7 := h7 + h\n",
    "\n",
    "Produce the final hash value (big-endian):\n",
    "digest := hash := h0 append h1 append h2 append h3 append h4 append h5 append h6 append h7"
   ]
  },
  {
   "cell_type": "markdown",
   "metadata": {},
   "source": [
    "2.Calculate hashes of the texts below (1 point)"
   ]
  },
  {
   "cell_type": "code",
   "execution_count": 149,
   "metadata": {},
   "outputs": [],
   "source": [
    "string_small = 'This is a very small string with a few characters.'\n",
    "string_larger = 'This is a larger string that contains more characters.'\n",
    "string_big = 'This is a larger string that contains more characters. This demonstrates that no matter how big the input stream is, the generated hash is the same size (but of course, not the same value). If two files have a different hash, they surely contain different data.'\n",
    "string_empty = ''"
   ]
  },
  {
   "cell_type": "code",
   "execution_count": 151,
   "metadata": {},
   "outputs": [
    {
     "name": "stdout",
     "output_type": "stream",
     "text": [
      "('551bfc4b', '109bec23', 'bbf29ba0', 'e8c4520f', '194ae77d', 'c1839b0', '52552deb', '23774f07')\n",
      "('e3c7ba4a', '5ff68765', '249cc065', 'a5198b1b', '8be94b67', '910a946f', '1fbaa995', 'daecb51a')\n",
      "('4ce5fcc6', '71b42410', '7676b353', '776ec461', '5eb14897', '600d5022', 'b322738b', 'da198b16')\n",
      "('e3b0c442', '98fc1c14', '9afbf4c8', '996fb924', '27ae41e4', '649b934c', 'a495991b', '7852b855')\n"
     ]
    }
   ],
   "source": [
    "print(sha_256(string_small))\n",
    "print(sha_256(string_larger))\n",
    "print(sha_256(string_big))\n",
    "print(sha_256(string_empty))"
   ]
  },
  {
   "cell_type": "code",
   "execution_count": 314,
   "metadata": {},
   "outputs": [
    {
     "name": "stdout",
     "output_type": "stream",
     "text": [
      "551bfc4b109bec23bbf29ba0e8c4520f194ae77d0c1839b052552deb23774f07\n"
     ]
    }
   ],
   "source": [
    "def encrypt_string(hash_string):\n",
    "    sha_signature = \\\n",
    "        hashlib.sha256(hash_string.encode()).hexdigest()\n",
    "    return sha_signature\n",
    "\n",
    "hash_string = string_small\n",
    "sha_signature = encrypt_string(hash_string)\n",
    "print(sha_signature)"
   ]
  },
  {
   "cell_type": "markdown",
   "metadata": {},
   "source": [
    "3.What is a bit length of each hash? (1 point)"
   ]
  },
  {
   "cell_type": "code",
   "execution_count": 177,
   "metadata": {},
   "outputs": [
    {
     "name": "stdout",
     "output_type": "stream",
     "text": [
      "64\n"
     ]
    }
   ],
   "source": [
    "a = ''\n",
    "for word in sha_256(string_larger):\n",
    "    a += word\n",
    "print(len(a))"
   ]
  },
  {
   "cell_type": "markdown",
   "metadata": {
    "collapsed": true
   },
   "source": [
    "256 bits long\n",
    "\n",
    "Each digit (hexadecimal representation) codes for 4 bits\n",
    "\n",
    "64 digits to represent 256 bits"
   ]
  },
  {
   "cell_type": "markdown",
   "metadata": {},
   "source": [
    "4.What is the bitwise distance between them? What is bitwise distance between their hashes? (1 point)"
   ]
  },
  {
   "cell_type": "code",
   "execution_count": 164,
   "metadata": {},
   "outputs": [],
   "source": [
    "def hamming2(s1, s2):\n",
    "    \"\"\"Calculate the Hamming distance between two bit strings\"\"\"\n",
    "    assert len(s1) == len(s2)\n",
    "    return sum(c1 != c2 for c1, c2 in zip(s1, s2))"
   ]
  },
  {
   "cell_type": "code",
   "execution_count": 165,
   "metadata": {},
   "outputs": [
    {
     "data": {
      "text/plain": [
       "6"
      ]
     },
     "execution_count": 165,
     "metadata": {},
     "output_type": "execute_result"
    }
   ],
   "source": [
    "hamming2('551bfc4b', '109bec23')"
   ]
  },
  {
   "cell_type": "markdown",
   "metadata": {},
   "source": [
    "5.Typically use apply hash function to our passwords and texts that we want to digitally sign. Implement digital signature of hashed string using El-Gamal digital signature. Compare the digital signature of plain text and hashed text. (2 points)"
   ]
  },
  {
   "cell_type": "code",
   "execution_count": 319,
   "metadata": {},
   "outputs": [
    {
     "data": {
      "text/plain": [
       "'69183'"
      ]
     },
     "execution_count": 319,
     "metadata": {},
     "output_type": "execute_result"
    }
   ],
   "source": [
    "str(message)"
   ]
  },
  {
   "cell_type": "code",
   "execution_count": 316,
   "metadata": {},
   "outputs": [
    {
     "data": {
      "text/plain": [
       "'ad3465b68e2299613bb846fa71fef2f0c818dbc47078f811f0596f14a9218fd0'"
      ]
     },
     "execution_count": 316,
     "metadata": {},
     "output_type": "execute_result"
    }
   ],
   "source": [
    "res = sha_256(str(message))\n",
    "res_str = ''.join(['%.2x' % int(i, 16) for i in res])\n",
    "res_str"
   ]
  },
  {
   "cell_type": "code",
   "execution_count": 317,
   "metadata": {},
   "outputs": [
    {
     "name": "stdout",
     "output_type": "stream",
     "text": [
      "ad3465b68e2299613bb846fa71fef2f0c818dbc47078f811f0596f14a9218fd0\n"
     ]
    }
   ],
   "source": [
    "hash_string = str(message)\n",
    "sha_signature = encrypt_string(hash_string)\n",
    "print(sha_signature)"
   ]
  },
  {
   "cell_type": "code",
   "execution_count": 322,
   "metadata": {},
   "outputs": [
    {
     "data": {
      "text/plain": [
       "78342700850333459119618701488595620606496640477638269326528475266771455152080"
      ]
     },
     "execution_count": 322,
     "metadata": {},
     "output_type": "execute_result"
    }
   ],
   "source": [
    "int(res_str, 16)"
   ]
  },
  {
   "cell_type": "code",
   "execution_count": 321,
   "metadata": {},
   "outputs": [
    {
     "data": {
      "text/plain": [
       "True"
      ]
     },
     "execution_count": 321,
     "metadata": {},
     "output_type": "execute_result"
    }
   ],
   "source": [
    "verify(a, b, y, g, p, message)"
   ]
  },
  {
   "cell_type": "code",
   "execution_count": 318,
   "metadata": {},
   "outputs": [
    {
     "data": {
      "text/plain": [
       "False"
      ]
     },
     "execution_count": 318,
     "metadata": {},
     "output_type": "execute_result"
    }
   ],
   "source": [
    "verify(a, b, y, g, p, int(res_str, 16))"
   ]
  },
  {
   "cell_type": "markdown",
   "metadata": {},
   "source": [
    "## Problem 4 (15 points)"
   ]
  },
  {
   "cell_type": "markdown",
   "metadata": {},
   "source": [
    "Merkle hash trees play an important role in forming transaction blocks in blockchain. In this assignment we ask you to plot your own Merkle hash tree and check its' properties. Below we provide you with some code fragment what you can use in your assignment"
   ]
  },
  {
   "cell_type": "code",
   "execution_count": 7,
   "metadata": {},
   "outputs": [],
   "source": [
    "import matplotlib\n",
    "import networkx as nx\n",
    "%matplotlib qt5\n",
    "from networkx import balanced_tree, draw_networkx, draw"
   ]
  },
  {
   "cell_type": "markdown",
   "metadata": {},
   "source": [
    "Let us plot graph basis for Merkle hash tree"
   ]
  },
  {
   "cell_type": "code",
   "execution_count": 279,
   "metadata": {},
   "outputs": [
    {
     "data": {
      "text/plain": [
       "{0: Text(0,4,'0'),\n",
       " 1: Text(-2,3,'1'),\n",
       " 2: Text(2,3,'2'),\n",
       " 3: Text(-3,2,'3'),\n",
       " 4: Text(-1,2,'4'),\n",
       " 5: Text(1,2,'5'),\n",
       " 6: Text(3,2,'6'),\n",
       " 7: Text(-3,1,'tx1'),\n",
       " 8: Text(-1,1,'tx2'),\n",
       " 9: Text(1,1,'tx3'),\n",
       " 10: Text(3,1,'tx4')}"
      ]
     },
     "execution_count": 279,
     "metadata": {},
     "output_type": "execute_result"
    }
   ],
   "source": [
    "G = nx.Graph()\n",
    "positions = {}\n",
    "coordinates = [\n",
    "    [0, 4],\n",
    "    [-2, 3],\n",
    "    [2, 3],\n",
    "    [-3, 2],\n",
    "    [-1, 2],\n",
    "    [1, 2],\n",
    "    [3, 2],\n",
    "    [-3, 1],\n",
    "    [-1, 1],\n",
    "    [1, 1],\n",
    "    [3, 1]\n",
    "]\n",
    "parents = [0, 0, 0, 1, 1, 2, 2, 3, 4, 5, 6]\n",
    "for index in range(11):\n",
    "    G.add_node(index)\n",
    "    G.add_edge(index, parents[index])\n",
    "    positions[index] = coordinates[index]\n",
    "nx.draw(G, positions, node_size = 1000)\n",
    "labels = {\n",
    "    0: '0',\n",
    "    1: '1',\n",
    "    2: '2',\n",
    "    3: '3',\n",
    "    4: '4',\n",
    "    5: '5',\n",
    "    6: '6',\n",
    "    7: 'tx1',\n",
    "    8: 'tx2',\n",
    "    9: 'tx3',\n",
    "    10: 'tx4',\n",
    "}\n",
    "nx.draw_networkx_labels(G, positions, labels = labels)"
   ]
  },
  {
   "cell_type": "markdown",
   "metadata": {},
   "source": [
    "In Bitcoin double sha256 hash scheme is used. Here is an example."
   ]
  },
  {
   "cell_type": "code",
   "execution_count": 118,
   "metadata": {},
   "outputs": [
    {
     "name": "stdout",
     "output_type": "stream",
     "text": [
      "First hash represented as a hexadecimal number: 2cf24dba5fb0a30e26e83b2ac5b9e29e1b161e5c1fa7425e73043362938b9824\n",
      "Second hash represented as a hexadecimal number: 9595c9df90075148eb06860365df33584b75bff782a510c6cd4883a419833d50\n"
     ]
    }
   ],
   "source": [
    "import hashlib\n",
    "\n",
    "\n",
    "first_hash = hashlib.sha256(b\"hello\") # \"b\" stands for binary representation\n",
    "second_hash = hashlib.sha256()\n",
    "print('First hash represented as a hexadecimal number:', first_hash.hexdigest())\n",
    "second_hash.update(first_hash.digest())\n",
    "print('Second hash represented as a hexadecimal number:', second_hash.hexdigest())"
   ]
  },
  {
   "cell_type": "code",
   "execution_count": 173,
   "metadata": {},
   "outputs": [
    {
     "data": {
      "text/plain": [
       "64"
      ]
     },
     "execution_count": 173,
     "metadata": {},
     "output_type": "execute_result"
    }
   ],
   "source": [
    "len('2cf24dba5fb0a30e26e83b2ac5b9e29e1b161e5c1fa7425e73043362938b9824')"
   ]
  },
  {
   "cell_type": "markdown",
   "metadata": {},
   "source": [
    "Now we can easily change vertices' labels to hashes of corresponding messages and plot new graph"
   ]
  },
  {
   "cell_type": "code",
   "execution_count": 37,
   "metadata": {},
   "outputs": [
    {
     "name": "stdout",
     "output_type": "stream",
     "text": [
      "856a4921cd32690244af7568e7bd1391a94119e17c7f33234f4bf11271b223e5\n"
     ]
    }
   ],
   "source": [
    "labels[3] = hashlib.sha256(hashlib.sha256(b\"tx1\").digest()).hexdigest()\n",
    "\n",
    "# and plot the graph again\n",
    "\n",
    "nx.draw(G, positions, node_size = 1000)\n",
    "nx.draw_networkx_labels(G, positions, labels = labels, font_size = 8)\n",
    "print(labels[3])"
   ]
  },
  {
   "cell_type": "markdown",
   "metadata": {},
   "source": [
    "1.Construct Merkle hash tree using previously constructed graph by finding corresponding SHA256 hashes on vertices (2 points). Plot obtained Merkle hash tree (1 point)"
   ]
  },
  {
   "cell_type": "code",
   "execution_count": 259,
   "metadata": {},
   "outputs": [],
   "source": [
    "def double_hash(string):\n",
    "    return hashlib.sha256(hashlib.sha256(string.encode('utf-8')).digest()).hexdigest()"
   ]
  },
  {
   "cell_type": "code",
   "execution_count": 268,
   "metadata": {},
   "outputs": [],
   "source": [
    "def sum_hash(*args):\n",
    "    return double_hash(''.join(args))"
   ]
  },
  {
   "cell_type": "code",
   "execution_count": 269,
   "metadata": {},
   "outputs": [],
   "source": [
    "#labels[4] = hashlib.sha256(hashlib.sha256(b\"tx2\").digest()).hexdigest()\n",
    "def plot_graph(myList = [], *args):\n",
    "    labels[3] = double_hash(labels[7])\n",
    "    labels[4] = double_hash(labels[8])\n",
    "    labels[5] = double_hash(labels[9])\n",
    "    labels[6] = double_hash(labels[10])\n",
    "    labels[1] = sum_hash(labels[3],labels[4])\n",
    "    labels[2] = sum_hash(labels[5],labels[6])\n",
    "    labels[0] = sum_hash(labels[1],labels[2])\n",
    "\n",
    "    nx.draw(G, positions, node_size = 1000)\n",
    "    nx.draw_networkx_labels(G, positions, labels = labels, font_size = 8)\n",
    "    return\n",
    "plot_graph(labels)"
   ]
  },
  {
   "cell_type": "markdown",
   "metadata": {},
   "source": [
    "2.Provide a proof of correctness of leaf tx2 (2 points). "
   ]
  },
  {
   "cell_type": "code",
   "execution_count": 270,
   "metadata": {},
   "outputs": [],
   "source": [
    "def hash_verification(my_hash,state):\n",
    "    if my_hash==state:\n",
    "        verification = True \n",
    "    else:\n",
    "        verification = False\n",
    "    \n",
    "    return verification\n",
    "    "
   ]
  },
  {
   "cell_type": "code",
   "execution_count": 271,
   "metadata": {
    "scrolled": true
   },
   "outputs": [
    {
     "name": "stdout",
     "output_type": "stream",
     "text": [
      "b\"'\\xcad\\xc0\\x92\\xa9Y\\xc7\\xed\\xc5%\\xedE\\xe8E\\xb1\\xdeju\\x90\\xd1s\\xfd/\\xad\\x913\\xc8\\xa7y\\xa1\\xe3\"\n",
      "79043a4d1d4d6d0b830519bfc07b92b4d162a4cd54235719c2c3cc211a638dfd\n",
      "79043a4d1d4d6d0b830519bfc07b92b4d162a4cd54235719c2c3cc211a638dfd\n",
      "True\n"
     ]
    }
   ],
   "source": [
    "temp2 = hashlib.sha256(b\"tx2\").digest()\n",
    "print(temp2)\n",
    "state1 = hashlib.sha256(b\"'\\xcad\\xc0\\x92\\xa9Y\\xc7\\xed\\xc5%\\xedE\\xe8E\\xb1\\xdeju\\x90\\xd1s\\xfd/\\xad\\x913\\xc8\\xa7y\\xa1\\xe3\").hexdigest()\n",
    "print(state1)\n",
    "print(labels[4])\n",
    "print(hash_verification(labels[4], state1))"
   ]
  },
  {
   "cell_type": "markdown",
   "metadata": {},
   "source": [
    "3.Provide a proof of correctness for set of leafs (tx3-tx4) (2 points)"
   ]
  },
  {
   "cell_type": "code",
   "execution_count": 272,
   "metadata": {},
   "outputs": [
    {
     "name": "stdout",
     "output_type": "stream",
     "text": [
      "ef729c31d206229249bd791b29676d26cc7465aa6bc2003d80c7a82a316e02334746dc9c16f97469fa45710394c4a0e2f29226efc04cab47c29ce579ae19a74e\n",
      "5c72c2fc6c2ed732c66fa8dc63f163617be1eb6175b88b3b640f440abb236e73\n",
      "5c72c2fc6c2ed732c66fa8dc63f163617be1eb6175b88b3b640f440abb236e73\n",
      "True\n"
     ]
    }
   ],
   "source": [
    "temp3 = hashlib.sha256(hashlib.sha256(b\"tx3\").digest()).hexdigest()\n",
    "temp4 = hashlib.sha256(hashlib.sha256(b\"tx4\").digest()).hexdigest()\n",
    "temp34 = temp3 + temp4\n",
    "print(temp34)\n",
    "state2 = hashlib.sha256(hashlib.sha256(b'ef729c31d206229249bd791b29676d26cc7465aa6bc2003d80c7a82a316e02334746dc9c16f97469fa45710394c4a0e2f29226efc04cab47c29ce579ae19a74e').digest()).hexdigest()\n",
    "print(state2)\n",
    "print(labels[2])\n",
    "print(hash_verification(labels[2], state2))"
   ]
  },
  {
   "cell_type": "markdown",
   "metadata": {},
   "source": [
    "4.Change the value on leaf tx1 and recompute corresponding hashes. Plot newly obtained Merkle hash tree (2 points)"
   ]
  },
  {
   "cell_type": "code",
   "execution_count": 273,
   "metadata": {},
   "outputs": [],
   "source": [
    "labels[7] = \"tx0\"\n",
    "plot_graph(labels)"
   ]
  },
  {
   "cell_type": "markdown",
   "metadata": {},
   "source": [
    "5.Nodes in Merkle hash trees may have arbitrary fanout. In previouse items we consider the case of fanout equals to two. But what will change if we set a fanout equals to three? Construct Merkle hash trees with fanout 3 to sign 9 values? Construct the hash tree with fanout 2 to sign the same set of values? Plot obtained trees (4 points) "
   ]
  },
  {
   "cell_type": "code",
   "execution_count": 274,
   "metadata": {},
   "outputs": [
    {
     "data": {
      "text/plain": [
       "{0: Text(0,9,'0'),\n",
       " 1: Text(-2,8,'1'),\n",
       " 2: Text(0,8,'2'),\n",
       " 3: Text(2,8,'3'),\n",
       " 4: Text(-4,7,'4'),\n",
       " 5: Text(-3,7,'5'),\n",
       " 6: Text(-2,7,'6'),\n",
       " 7: Text(-1,7,'7'),\n",
       " 8: Text(0,7,'8'),\n",
       " 9: Text(1,7,'9'),\n",
       " 10: Text(2,7,'10'),\n",
       " 11: Text(3,7,'11'),\n",
       " 12: Text(4,7,'12'),\n",
       " 13: Text(-4,6,'tx1'),\n",
       " 14: Text(-3,6,'tx2'),\n",
       " 15: Text(-2,6,'tx3'),\n",
       " 16: Text(-1,6,'tx4'),\n",
       " 17: Text(0,6,'tx5'),\n",
       " 18: Text(1,6,'tx6'),\n",
       " 19: Text(2,6,'tx7'),\n",
       " 20: Text(3,6,'tx8'),\n",
       " 21: Text(4,6,'tx9')}"
      ]
     },
     "execution_count": 274,
     "metadata": {},
     "output_type": "execute_result"
    }
   ],
   "source": [
    "G1 = nx.Graph()\n",
    "positions1 = {}\n",
    "coordinates1 = [\n",
    "    [0, 9],\n",
    "    [-2, 8],\n",
    "    [0, 8],\n",
    "    [2, 8],\n",
    "    [-4, 7],\n",
    "    [-3, 7],\n",
    "    [-2, 7],\n",
    "    [-1, 7],\n",
    "    [0, 7],\n",
    "    [1, 7],\n",
    "    [2, 7],\n",
    "    [3, 7],\n",
    "    [4, 7],\n",
    "     [-4, 6],\n",
    "    [-3, 6],\n",
    "    [-2, 6],\n",
    "    [-1, 6],\n",
    "    [0, 6],\n",
    "    [1, 6],\n",
    "    [2, 6],\n",
    "    [3, 6],\n",
    "    [4, 6],\n",
    "]\n",
    "parents1 = [0, 0, 0, 0, 1, 1, 1, 2, 2, 2, 3, 3, 3, 4, 5, 6, 7, 8, 9, 10, 11, 12]\n",
    "for index in range(len(parents1)):\n",
    "    G1.add_node(index)\n",
    "    G1.add_edge(index, parents1[index])\n",
    "    positions1[index] = coordinates1[index]\n",
    "nx.draw(G1, positions1, node_size = 1000)\n",
    "labels1 = {\n",
    "    0: '0',\n",
    "    1: '1',\n",
    "    2: '2',\n",
    "    3: '3',\n",
    "    4: '4',\n",
    "    5: '5',\n",
    "    6: '6',\n",
    "    7: '7',\n",
    "    8: '8',\n",
    "    9: '9',\n",
    "    10: '10',\n",
    "    11: '11',\n",
    "    12: '12', \n",
    "    13: 'tx1',\n",
    "    14: 'tx2',\n",
    "    15: 'tx3',\n",
    "    16: 'tx4',\n",
    "    17: 'tx5',\n",
    "    18: 'tx6',\n",
    "    19: 'tx7',\n",
    "    20: 'tx8',\n",
    "    21: 'tx9',\n",
    "}\n",
    "nx.draw_networkx_labels(G1, positions1, labels = labels1)"
   ]
  },
  {
   "cell_type": "code",
   "execution_count": 275,
   "metadata": {},
   "outputs": [
    {
     "data": {
      "text/plain": [
       "{0: Text(0,5,'0'),\n",
       " 1: Text(-3.5,4,'1'),\n",
       " 2: Text(3.5,4,'2'),\n",
       " 3: Text(-5,3,'3'),\n",
       " 4: Text(-2,3,'4'),\n",
       " 5: Text(2,3,'5'),\n",
       " 6: Text(5,3,'6'),\n",
       " 7: Text(-6,2,'7'),\n",
       " 8: Text(-4,2,'8'),\n",
       " 9: Text(-3,2,'9'),\n",
       " 10: Text(-1,2,'10'),\n",
       " 11: Text(1,2,'11'),\n",
       " 12: Text(3,2,'12'),\n",
       " 13: Text(4,2,'13'),\n",
       " 14: Text(6,2,'14'),\n",
       " 15: Text(-7,1,'15'),\n",
       " 16: Text(-5,1,'16'),\n",
       " 17: Text(-4,1,'tx1'),\n",
       " 18: Text(-3,1,'tx2'),\n",
       " 19: Text(-1,1,'tx3'),\n",
       " 20: Text(1,1,'tx4'),\n",
       " 21: Text(3,1,'tx5'),\n",
       " 22: Text(4,1,'tx6'),\n",
       " 23: Text(6,1,'tx7'),\n",
       " 24: Text(-7,0,'tx8'),\n",
       " 25: Text(-5,0,'tx9')}"
      ]
     },
     "execution_count": 275,
     "metadata": {},
     "output_type": "execute_result"
    }
   ],
   "source": [
    "G = nx.Graph()\n",
    "positions = {}\n",
    "coordinates = [\n",
    "    [0, 5],\n",
    "    [-3.5, 4],\n",
    "    [3.5, 4],\n",
    "    [-5, 3],\n",
    "    [-2, 3],\n",
    "    [2, 3],\n",
    "    [5, 3],\n",
    "    [-6, 2],\n",
    "    [-4, 2],\n",
    "    [-3, 2],\n",
    "    [-1, 2],\n",
    "    [1, 2],\n",
    "    [3, 2],\n",
    "    [4, 2],\n",
    "    [6, 2],\n",
    "    [-7, 1],\n",
    "    [-5, 1],\n",
    "    [-4, 1],\n",
    "    [-3, 1],\n",
    "    [-1, 1],\n",
    "    [1, 1],\n",
    "    [3, 1],\n",
    "    [4, 1],\n",
    "    [6, 1],\n",
    "    [-7, 0],\n",
    "    [-5, 0]\n",
    "]\n",
    "parents = [0, 0, 0, 1, 1, 2, 2, 3, 3, 4, 4, 5, 5, 6, 6, 7, 7, 8, 9, 10, 11, 12, 13, 14, 15, 16]\n",
    "for index in range(len(parents)):\n",
    "    G.add_node(index)\n",
    "    G.add_edge(index, parents[index])\n",
    "    positions[index] = coordinates[index]\n",
    "nx.draw(G, positions, node_size = 1000)\n",
    "labels = {\n",
    "    0: '0',\n",
    "    1: '1',\n",
    "    2: '2',\n",
    "    3: '3',\n",
    "    4: '4',\n",
    "    5: '5',\n",
    "    6: '6',\n",
    "    7: '7',\n",
    "    8: '8',\n",
    "    9: '9',\n",
    "    10: '10',\n",
    "    11: '11',\n",
    "    12: '12',\n",
    "    13: '13',\n",
    "    14: '14',\n",
    "    15: '15',\n",
    "    16: '16',\n",
    "    17: 'tx1',\n",
    "    18: 'tx2',\n",
    "    19: 'tx3',\n",
    "    20: 'tx4',\n",
    "    21: 'tx5',\n",
    "    22: 'tx6',\n",
    "    23: 'tx7',\n",
    "    24: 'tx8',\n",
    "    25: 'tx9'\n",
    "}\n",
    "nx.draw_networkx_labels(G, positions, labels = labels)"
   ]
  },
  {
   "cell_type": "code",
   "execution_count": 276,
   "metadata": {},
   "outputs": [
    {
     "data": {
      "text/plain": [
       "{0: Text(0,9,'e7296a950ce7691ac317379ed5ab311cb1cdd4904b59ed20d410bc51b7f69196'),\n",
       " 1: Text(-2,8,'66ed30b63243fcd5bd1b7414b59e2c2346ea01ca124d58651653ee4e5f47a43b'),\n",
       " 2: Text(0,8,'c8cfb3fc3818c0aa840299e590ce437472935b00cf9f2b49ea559f7e3f8c012f'),\n",
       " 3: Text(2,8,'d9dccb4196250a8861ce62b1f8e7e44563c936562337a98cb39d5f69c4696501'),\n",
       " 4: Text(-4,7,'856a4921cd32690244af7568e7bd1391a94119e17c7f33234f4bf11271b223e5'),\n",
       " 5: Text(-3,7,'79043a4d1d4d6d0b830519bfc07b92b4d162a4cd54235719c2c3cc211a638dfd'),\n",
       " 6: Text(-2,7,'ef729c31d206229249bd791b29676d26cc7465aa6bc2003d80c7a82a316e0233'),\n",
       " 7: Text(-1,7,'4746dc9c16f97469fa45710394c4a0e2f29226efc04cab47c29ce579ae19a74e'),\n",
       " 8: Text(0,7,'929e74a52e6f0d8390d60d631d6dc8fb6cde5f10c04c7053bc94ce3f62759823'),\n",
       " 9: Text(1,7,'ccd702558bb588ba5d49d2ec85af0453fae434476f205ad6caa93da525f86627'),\n",
       " 10: Text(2,7,'038edc078728e6455aa202890dec7d4635f2180e999f1a7c280c0283e5dc9ccf'),\n",
       " 11: Text(3,7,'9cb58fa7c7cf21f3e426c113f8f48c115402a476024f21edd7db637f06bb8f76'),\n",
       " 12: Text(4,7,'1d5acdeb18c0a72f5ec33b8049b7990cdd40ee81acae5375dfd0f1c06c32252b'),\n",
       " 13: Text(-4,6,'tx1'),\n",
       " 14: Text(-3,6,'tx2'),\n",
       " 15: Text(-2,6,'tx3'),\n",
       " 16: Text(-1,6,'tx4'),\n",
       " 17: Text(0,6,'tx5'),\n",
       " 18: Text(1,6,'tx6'),\n",
       " 19: Text(2,6,'tx7'),\n",
       " 20: Text(3,6,'tx8'),\n",
       " 21: Text(4,6,'tx9')}"
      ]
     },
     "execution_count": 276,
     "metadata": {},
     "output_type": "execute_result"
    }
   ],
   "source": [
    "for i in range(4, 13):\n",
    "    labels1[i] = double_hash(labels1[i+9])\n",
    "for i in range(1, 4):\n",
    "    labels1[i] = sum_hash(labels1[3*i + 1],labels1[3*i + 2],labels1[3*i + 3])\n",
    "labels1[0] = sum_hash(labels1[1],labels1[2],labels1[3])\n",
    "nx.draw(G1, positions1, node_size = 1000)\n",
    "nx.draw_networkx_labels(G1, positions1, labels = labels1, font_size = 8)"
   ]
  },
  {
   "cell_type": "code",
   "execution_count": 278,
   "metadata": {},
   "outputs": [
    {
     "data": {
      "text/plain": [
       "{0: Text(0,5,'3a4b8b844d4877130956c6d81805eb2619bf15e56c2cc6f9044abbd49e681edf'),\n",
       " 1: Text(-3.5,4,'6af4f6dc4bc0b1e5f302e90de9f0eb00d77c40667b4fc9c91c6a2029a31971d5'),\n",
       " 2: Text(3.5,4,'762dea47265b09f5622bb4f683cacac619dd054acf790af83ecc38deca926819'),\n",
       " 3: Text(-5,3,'7c61d61a4d6ed41357bec48e23bfe0b11466b7583c906eb1f9ae547edf9800dc'),\n",
       " 4: Text(-2,3,'26d31590c0c2130ecc9e15a2f593d2d293b9d62674d5e060615506e204ed8ab9'),\n",
       " 5: Text(2,3,'534280e78185f3d7097a6fc216fcfb2a1000c682e9e65d23d88c40b7e87c2a5e'),\n",
       " 6: Text(5,3,'360013549010b5e10edfcd86290c6bb6e3020730c8b51d7c51b3fbeafc9796a5'),\n",
       " 7: Text(-6,2,'f201e24fbdc25f61d0482caf9ec1107190f71f36223d96e55dd3cf2c6eba1cfc'),\n",
       " 8: Text(-4,2,'856a4921cd32690244af7568e7bd1391a94119e17c7f33234f4bf11271b223e5'),\n",
       " 9: Text(-3,2,'79043a4d1d4d6d0b830519bfc07b92b4d162a4cd54235719c2c3cc211a638dfd'),\n",
       " 10: Text(-1,2,'ef729c31d206229249bd791b29676d26cc7465aa6bc2003d80c7a82a316e0233'),\n",
       " 11: Text(1,2,'4746dc9c16f97469fa45710394c4a0e2f29226efc04cab47c29ce579ae19a74e'),\n",
       " 12: Text(3,2,'929e74a52e6f0d8390d60d631d6dc8fb6cde5f10c04c7053bc94ce3f62759823'),\n",
       " 13: Text(4,2,'ccd702558bb588ba5d49d2ec85af0453fae434476f205ad6caa93da525f86627'),\n",
       " 14: Text(6,2,'038edc078728e6455aa202890dec7d4635f2180e999f1a7c280c0283e5dc9ccf'),\n",
       " 15: Text(-7,1,'9cb58fa7c7cf21f3e426c113f8f48c115402a476024f21edd7db637f06bb8f76'),\n",
       " 16: Text(-5,1,'1d5acdeb18c0a72f5ec33b8049b7990cdd40ee81acae5375dfd0f1c06c32252b'),\n",
       " 17: Text(-4,1,'tx1'),\n",
       " 18: Text(-3,1,'tx2'),\n",
       " 19: Text(-1,1,'tx3'),\n",
       " 20: Text(1,1,'tx4'),\n",
       " 21: Text(3,1,'tx5'),\n",
       " 22: Text(4,1,'tx6'),\n",
       " 23: Text(6,1,'tx7'),\n",
       " 24: Text(-7,0,'tx8'),\n",
       " 25: Text(-5,0,'tx9')}"
      ]
     },
     "execution_count": 278,
     "metadata": {},
     "output_type": "execute_result"
    }
   ],
   "source": [
    "for i in range(8, 17):\n",
    "    labels[i] = double_hash(labels[i+9])\n",
    "for i in range(7, -1, -1):\n",
    "    labels[i] = sum_hash(labels[i*2 +1], labels[i*2 + 2])\n",
    "nx.draw(G, positions, node_size = 1000)\n",
    "nx.draw_networkx_labels(G, positions, labels = labels, font_size = 8)"
   ]
  },
  {
   "cell_type": "markdown",
   "metadata": {},
   "source": [
    "6.What is the optimum tree fanout for signing first 4 values in the set up of previouse item? (2 points)"
   ]
  },
  {
   "cell_type": "markdown",
   "metadata": {},
   "source": [
    "When we use fanout=2, we need $2*n$ memory for hashes\n",
    "\n",
    "When, for example, we use fanout=4, we need $1.33*n$ memory, but to calculate every node we use more cpu.\n",
    "\n",
    "For 4 values, probably, we could use fanout=4, not to do extra calculations of the sum, but string for hashing wil be bigger, and more computationally difficult."
   ]
  }
 ],
 "metadata": {
  "kernelspec": {
   "display_name": "Python 3",
   "language": "python",
   "name": "python3"
  },
  "language_info": {
   "codemirror_mode": {
    "name": "ipython",
    "version": 3
   },
   "file_extension": ".py",
   "mimetype": "text/x-python",
   "name": "python",
   "nbconvert_exporter": "python",
   "pygments_lexer": "ipython3",
   "version": "3.7.1"
  }
 },
 "nbformat": 4,
 "nbformat_minor": 2
}
