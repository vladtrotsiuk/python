{
 "cells": [
  {
   "cell_type": "markdown",
   "metadata": {},
   "source": [
    "###  Решение СЛАУ методом вращений"
   ]
  },
  {
   "cell_type": "code",
   "execution_count": 37,
   "metadata": {},
   "outputs": [],
   "source": [
    "import numpy as np\n",
    "from math import cos, sin\n",
    "from scipy import linalg"
   ]
  },
  {
   "cell_type": "code",
   "execution_count": 259,
   "metadata": {},
   "outputs": [],
   "source": [
    "import numpy as np\n",
    "\n",
    "def solve_with_rotation(m):\n",
    "    \"\"\"Solve system with rotation method.\n",
    "    :param m: numpy matrix\n",
    "    :return: None\n",
    "    \"\"\"\n",
    "    n = m.shape[0]\n",
    "    # прямой ход\n",
    "    for i in range(n-1):\n",
    "        for j in range(i + 1, n):\n",
    "            c = m[i, i] / (m[i, i]**2 + m[j, i]**2) ** .5\n",
    "            s = m[j, i] / (m[i, i]**2 + m[j, i]**2) ** .5\n",
    "            tmp1 = m[i, :] * c + m[j, :] * s\n",
    "            tmp2 = m[i, :] * -s + m[j, :] * c\n",
    "            m[i, :] = tmp1\n",
    "            m[j, :] = tmp2\n",
    "\n",
    "    # проверка на особенность\n",
    "    if is_singular(m):\n",
    "        print('The system has infinite number of answers...')\n",
    "        return\n",
    "\n",
    "    # обратный ход\n",
    "    answer = np.matrix([0.0 for i in range(n)]).T\n",
    "    for k in range(n - 1, -1, -1):\n",
    "        answer[k, 0] = (m[k, -1] - m[k, k:n] * answer[k:n, 0]) / m[k, k]\n",
    "\n",
    "    # нахождение сз\n",
    "    e_val = np.diag(m)\n",
    "    return answer\n",
    "\n",
    "\n",
    "def is_singular(m):\n",
    "    \"\"\"Check matrix for nonsingularity.\n",
    "    :param m: matrix (list of lists)\n",
    "    :return: True if system is nonsingular\n",
    "    \"\"\"\n",
    "    return np.any(np.diag(m) == 0)\n",
    "\n"
   ]
  },
  {
   "cell_type": "code",
   "execution_count": 264,
   "metadata": {},
   "outputs": [
    {
     "name": "stdout",
     "output_type": "stream",
     "text": [
      "[ 14.97633136 -82.19970414   2.32840237  33.30325444]\n",
      "[[ 14.97633136]\n",
      " [-82.19970414]\n",
      " [  2.32840237]\n",
      " [ 33.30325444]]\n"
     ]
    }
   ],
   "source": [
    "m = np.array([[63., 22., 0., 26., 1.], [22., 15.,1.,27., -2.], [0., 1., 21., 1., 0.], [26.,27., 1.,55., 4.]])\n",
    "\n",
    "A = np.array([[63., 22., 0., 26.], [22., 15.,1.,27.], [0., 1., 21., 1.], [26.,27., 1.,55.]])\n",
    "b = np.array([1,-2,0,4])\n",
    "print(np.linalg.solve(A,b))\n",
    "#b = np.array([1,-2,0,4])\n",
    "answer = solve_with_rotation(m)\n",
    "print(answer)"
   ]
  },
  {
   "cell_type": "markdown",
   "metadata": {},
   "source": [
    "___"
   ]
  },
  {
   "cell_type": "markdown",
   "metadata": {},
   "source": [
    "### Решение СЛАУ методом QR-разложения"
   ]
  },
  {
   "cell_type": "code",
   "execution_count": 187,
   "metadata": {},
   "outputs": [],
   "source": [
    "def gram_schmidt_qr(A): # 5 pts\n",
    "    n = A.shape[1] + 1\n",
    "    Q = np.zeros((n, n))\n",
    "    R = Q.copy()\n",
    "    V = R.copy()\n",
    "    V[1:,1:] = A\n",
    "\n",
    "    for k in range(1, n):\n",
    "        R[k][k] = np.linalg.norm(V[:,k], 2)\n",
    "        Q[:,k] = V[:,k] / R[k][k]\n",
    "        for i in range(k + 1, n):\n",
    "            R[k][i] = np.dot(Q[:,k].T, V[:,i])\n",
    "            V[:,i] = V[:,i] - R[k][i] * Q[:,k]\n",
    "\n",
    "    return Q[1:, 1:], R[1:, 1:]"
   ]
  },
  {
   "cell_type": "code",
   "execution_count": 188,
   "metadata": {},
   "outputs": [
    {
     "name": "stdout",
     "output_type": "stream",
     "text": [
      "[  5.34615385   2.38461538   1.5        -16.61538462]\n"
     ]
    }
   ],
   "source": [
    "A = np.array([\n",
    "        [3,7,1,2],\n",
    "        [1, 2, 3, 1],\n",
    "        [4, -2, 0, 1],\n",
    "        [1,2,7,1]\n",
    "])\n",
    "\n",
    "m, n = A.shape\n",
    "q,r = gram_schmidt_qr(A)\n",
    "b = np.array([1,-2,0,4])\n",
    "answer = linalg.inv(r) @ (q.T @ b)\n",
    "print(answer)"
   ]
  },
  {
   "cell_type": "markdown",
   "metadata": {},
   "source": [
    "### Вариационный метод"
   ]
  },
  {
   "cell_type": "code",
   "execution_count": 193,
   "metadata": {},
   "outputs": [],
   "source": [
    "def variative(A, b, num_iter=100):\n",
    "    x = b\n",
    "    for k in range(num_iter):\n",
    "        r = A @ x - b\n",
    "        if np.array_equal(r, np.zeros(r.size)):\n",
    "            break;\n",
    "        t = (r @ A @ r) / (r @ A.T @ A @ r)\n",
    "        x = x - t * r \n",
    "    return x"
   ]
  },
  {
   "cell_type": "code",
   "execution_count": 194,
   "metadata": {},
   "outputs": [],
   "source": [
    "A = np.array([[63, 22, 0, 26], [22, 15,1,27], [0, 1, 21, 1], [26,27, 1,55]])\n",
    "b = np.array([1,-2,0,4])"
   ]
  },
  {
   "cell_type": "code",
   "execution_count": 198,
   "metadata": {},
   "outputs": [
    {
     "name": "stdout",
     "output_type": "stream",
     "text": [
      "[ 14.97633136 -82.19970414   2.32840237  33.30325444]\n"
     ]
    }
   ],
   "source": [
    "x = variative(A, b, 100000)\n",
    "print(x)"
   ]
  },
  {
   "cell_type": "markdown",
   "metadata": {},
   "source": [
    "### Итерационный метод"
   ]
  },
  {
   "cell_type": "code",
   "execution_count": 218,
   "metadata": {},
   "outputs": [],
   "source": [
    "def iterative(A, b, num_iter = 1000):\n",
    "    x = b\n",
    "    s,v = linalg.eig(A)\n",
    "    coef = 2/(s.min()+s.max())\n",
    "    for k in range(num_iter):\n",
    "        r = A @ x - b\n",
    "        if np.array_equal(r, np.zeros(r.size)):\n",
    "            break;\n",
    "        x = x - coef*r\n",
    "    return x"
   ]
  },
  {
   "cell_type": "code",
   "execution_count": 219,
   "metadata": {},
   "outputs": [],
   "source": [
    "A = np.array([[3, 1], [2, 6]])\n",
    "b = np.array([5, 9])"
   ]
  },
  {
   "cell_type": "code",
   "execution_count": 220,
   "metadata": {},
   "outputs": [
    {
     "name": "stdout",
     "output_type": "stream",
     "text": [
      "[1.3125+0.j 1.0625+0.j]\n"
     ]
    }
   ],
   "source": [
    "x = iterative(A, b, 100)\n",
    "print(x)"
   ]
  },
  {
   "cell_type": "markdown",
   "metadata": {},
   "source": [
    "### Нахождение СЗ и СВ методом вращений"
   ]
  },
  {
   "cell_type": "code",
   "execution_count": 115,
   "metadata": {},
   "outputs": [],
   "source": [
    "def rotation_method(m):\n",
    "    n = m.shape[0]\n",
    "    m_max = 1\n",
    "    H = np.eye(n)\n",
    "    einnumb = np.diag(m)\n",
    "    \n",
    "    while m_max > 0.1:\n",
    "        a = m.copy()\n",
    "        size = m.shape[0]\n",
    "        for i in range(size):\n",
    "            a[i][i] = 0 \n",
    "        m_max = (abs(a)).max()\n",
    "        m_max_ind = np.argmax(abs(a))\n",
    "        i = m_max_ind // size\n",
    "        j = m_max_ind % size\n",
    "        p = (2*m[i][j])/(m[i][i]-m[j][j])\n",
    "        s = sin(0.5* np.arctan(p))\n",
    "        c = cos(0.5* np.arctan(p))\n",
    "        H_temp = np.eye(n)\n",
    "        H_temp[i][i] = c\n",
    "        H_temp[j][j] = c\n",
    "        H_temp[i][j] = -s\n",
    "        H_temp[j][i] = s\n",
    "        m = H_temp.T @ m @ H_temp\n",
    "        H = H @ H_temp\n",
    "        einnumb = np.diag(m)\n",
    "        \n",
    "\n",
    "    if is_singular(m):\n",
    "        print('Матрица особенная')\n",
    "        return\n",
    "\n",
    "    return H, einnumb\n",
    "\n",
    "\n",
    "def is_singular(m):\n",
    "    return np.any(np.diag(m) == 0)\n",
    "\n"
   ]
  },
  {
   "cell_type": "code",
   "execution_count": 199,
   "metadata": {},
   "outputs": [
    {
     "name": "stdout",
     "output_type": "stream",
     "text": [
      "[[ 0.71418495 -0.16662703  0.03349557  0.67900909]\n",
      " [-0.14709963  0.91378862  0.00922964  0.3785061 ]\n",
      " [-0.06520783 -0.02596098  0.99744909  0.0130109 ]\n",
      " [-0.68121179 -0.36952918 -0.06235524  0.62889626]]\n",
      "[3.36684662e+01 3.85940735e-02 2.09467451e+01 9.93461946e+01]\n"
     ]
    }
   ],
   "source": [
    "A = np.array([[63, 22, 0, 26], [22, 15,1,27], [0, 1, 21, 1], [26,27, 1,55]])\n",
    "H, einnumb = rotation_method(A)\n",
    "print(H)\n",
    "print(einnumb)"
   ]
  },
  {
   "cell_type": "code",
   "execution_count": null,
   "metadata": {},
   "outputs": [],
   "source": []
  }
 ],
 "metadata": {
  "kernelspec": {
   "display_name": "Python 3",
   "language": "python",
   "name": "python3"
  },
  "language_info": {
   "codemirror_mode": {
    "name": "ipython",
    "version": 3
   },
   "file_extension": ".py",
   "mimetype": "text/x-python",
   "name": "python",
   "nbconvert_exporter": "python",
   "pygments_lexer": "ipython3",
   "version": "3.7.1"
  }
 },
 "nbformat": 4,
 "nbformat_minor": 2
}
