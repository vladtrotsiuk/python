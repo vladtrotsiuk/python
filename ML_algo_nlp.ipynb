{
 "cells": [
  {
   "cell_type": "code",
   "execution_count": 1,
   "metadata": {},
   "outputs": [],
   "source": [
    "import re\n",
    "import nltk\n",
    "import time\n",
    "import warnings\n",
    "import itertools\n",
    "import matplotlib.pyplot as plt\n",
    "import numpy as np\n",
    "\n",
    "from nltk import wordnet, pos_tag\n",
    "from nltk import WordNetLemmatizer\n",
    "from nltk.stem.snowball import SnowballStemmer\n",
    "from sklearn.datasets import fetch_20newsgroups\n",
    "from sklearn.feature_extraction.text import CountVectorizer\n",
    "from sklearn.linear_model import SGDClassifier\n",
    "from sklearn.feature_extraction.text import TfidfVectorizer\n",
    "from sklearn import metrics"
   ]
  },
  {
   "cell_type": "code",
   "execution_count": 2,
   "metadata": {},
   "outputs": [],
   "source": [
    "categories = ['alt.atheism', 'soc.religion.christian',\n",
    "              'comp.graphics', 'sci.med']\n",
    "twenty_train = fetch_20newsgroups(subset='train',\n",
    "                                  categories=categories, \n",
    "                                  shuffle=True,\n",
    "                                  random_state=42,\n",
    "                                  remove=['headers', 'footers', 'quotes'])\n",
    "twenty_test = fetch_20newsgroups(subset='test',\n",
    "                                 categories=categories, \n",
    "                                 shuffle=True, \n",
    "                                 random_state=42,\n",
    "                                 remove=['headers', 'footers', 'quotes'])\n"
   ]
  },
  {
   "cell_type": "code",
   "execution_count": 3,
   "metadata": {},
   "outputs": [
    {
     "name": "stdout",
     "output_type": "stream",
     "text": [
      "\n",
      " you forgot the smiley face i can t believe this is what they turn out at berkeley tell me you re an aberration\n",
      "\n",
      " yes it looks like very good indeed nope\n"
     ]
    }
   ],
   "source": [
    "twenty_train_list=[]\n",
    "for sent in twenty_train.data:\n",
    "    expr = r'[^A-za-z 0-9]'\n",
    "    parser=re.compile(expr)\n",
    "    tmp_string = parser.sub(r' ',sent )\n",
    "    tmp_string = \" \".join(tmp_string.split())\n",
    "    tmp_string = tmp_string.lower()\n",
    "    twenty_train_list.append(tmp_string)\n",
    "print(\"\\n\", tmp_string)\n",
    "\n",
    "twenty_test_list=[]\n",
    "for sent in twenty_test.data:\n",
    "    expr = r'[^A-za-z 0-9]'\n",
    "    parser=re.compile(expr)\n",
    "    tmp_string = parser.sub(r' ',sent )\n",
    "    tmp_string = \" \".join(tmp_string.split())\n",
    "    tmp_string = tmp_string.lower()\n",
    "    twenty_test_list.append(tmp_string)\n",
    "print(\"\\n\", tmp_string)"
   ]
  },
  {
   "cell_type": "code",
   "execution_count": 4,
   "metadata": {},
   "outputs": [
    {
     "name": "stdout",
     "output_type": "stream",
     "text": [
      "yes it looks like very good indeed nope\n"
     ]
    }
   ],
   "source": [
    "sent = twenty_train.data[2]\n",
    "expr = r'[^A-za-z 0-9]'\n",
    "tmp_string_two=re.sub(expr,' ',sent)\n",
    "\n",
    "print(tmp_string)"
   ]
  },
  {
   "cell_type": "markdown",
   "metadata": {},
   "source": [
    "## CountVectorizer"
   ]
  },
  {
   "cell_type": "code",
   "execution_count": 5,
   "metadata": {},
   "outputs": [
    {
     "name": "stdout",
     "output_type": "stream",
     "text": [
      "(2257, 28864)\n",
      "(1502, 28864)\n",
      "                        precision    recall  f1-score   support\n",
      "\n",
      "           alt.atheism       0.57      0.69      0.63       319\n",
      "         comp.graphics       0.75      0.84      0.79       389\n",
      "               sci.med       0.82      0.67      0.74       396\n",
      "soc.religion.christian       0.71      0.65      0.67       398\n",
      "\n",
      "           avg / total       0.72      0.71      0.71      1502\n",
      "\n",
      "3.0262255668640137 sec\n"
     ]
    }
   ],
   "source": [
    "begin = time.time() \n",
    "\n",
    "count_vect = CountVectorizer()\n",
    "X_train_CV = count_vect.fit_transform(twenty_train_list)\n",
    "print(X_train_CV.shape)\n",
    "X_test_CV = count_vect.transform(twenty_test_list)\n",
    "print(X_test_CV.shape)\n",
    "\n",
    "warnings.simplefilter(action='ignore', category=FutureWarning)\n",
    "\n",
    "svm = SGDClassifier()\n",
    "svm.fit(X_train_CV, twenty_train.target)\n",
    "predicted_CV = svm.predict(X_test_CV)\n",
    "first_cv_metr = metrics.classification_report(twenty_test.target, predicted_CV,\n",
    "                                    target_names=twenty_test.target_names)\n",
    "print(first_cv_metr)\n",
    "\n",
    "end = time.time() \n",
    "print(end-begin, 'sec')"
   ]
  },
  {
   "cell_type": "markdown",
   "metadata": {},
   "source": [
    "## TfidfVectorizer"
   ]
  },
  {
   "cell_type": "code",
   "execution_count": 6,
   "metadata": {},
   "outputs": [
    {
     "name": "stdout",
     "output_type": "stream",
     "text": [
      "(2257, 28864)\n",
      "(1502, 28864)\n",
      "                        precision    recall  f1-score   support\n",
      "\n",
      "           alt.atheism       0.75      0.63      0.69       319\n",
      "         comp.graphics       0.83      0.92      0.87       389\n",
      "               sci.med       0.87      0.82      0.85       396\n",
      "soc.religion.christian       0.78      0.83      0.80       398\n",
      "\n",
      "           avg / total       0.81      0.81      0.81      1502\n",
      "\n",
      "1.1823184490203857 sec\n"
     ]
    }
   ],
   "source": [
    "begin = time.time() \n",
    "\n",
    "idf_vectorizer = TfidfVectorizer()\n",
    "X_train_idf = idf_vectorizer.fit_transform(twenty_train_list)\n",
    "print(X_train_idf.shape)\n",
    "X_test_idf = idf_vectorizer.transform(twenty_test_list)\n",
    "print(X_test_idf.shape)\n",
    "\n",
    "svm = SGDClassifier()\n",
    "svm.fit(X_train_idf, twenty_train.target)\n",
    "predicted_idf = svm.predict(X_test_idf)\n",
    "first_idf_metr = metrics.classification_report(twenty_test.target, predicted_idf,\n",
    "                                    target_names=twenty_test.target_names)\n",
    "print(first_idf_metr)\n",
    "\n",
    "end = time.time() \n",
    "print(end-begin, 'sec')"
   ]
  },
  {
   "cell_type": "markdown",
   "metadata": {},
   "source": [
    "## Сравним результаты"
   ]
  },
  {
   "cell_type": "code",
   "execution_count": 7,
   "metadata": {},
   "outputs": [
    {
     "name": "stdout",
     "output_type": "stream",
     "text": [
      "CountVectorizer\n",
      "                        precision    recall  f1-score   support\n",
      "\n",
      "           alt.atheism       0.57      0.69      0.63       319\n",
      "         comp.graphics       0.75      0.84      0.79       389\n",
      "               sci.med       0.82      0.67      0.74       396\n",
      "soc.religion.christian       0.71      0.65      0.67       398\n",
      "\n",
      "           avg / total       0.72      0.71      0.71      1502\n",
      "\n",
      "TfidfVectorizer\n",
      "                        precision    recall  f1-score   support\n",
      "\n",
      "           alt.atheism       0.75      0.63      0.69       319\n",
      "         comp.graphics       0.83      0.92      0.87       389\n",
      "               sci.med       0.87      0.82      0.85       396\n",
      "soc.religion.christian       0.78      0.83      0.80       398\n",
      "\n",
      "           avg / total       0.81      0.81      0.81      1502\n",
      "\n"
     ]
    }
   ],
   "source": [
    "print('CountVectorizer')\n",
    "print(first_cv_metr)\n",
    "print('TfidfVectorizer')\n",
    "print(first_idf_metr)"
   ]
  },
  {
   "cell_type": "markdown",
   "metadata": {},
   "source": [
    "Можем заметить, что average precision, recall, f1-score лучше у tf-idf."
   ]
  },
  {
   "cell_type": "markdown",
   "metadata": {},
   "source": [
    "_________________"
   ]
  },
  {
   "cell_type": "code",
   "execution_count": 8,
   "metadata": {},
   "outputs": [
    {
     "name": "stdout",
     "output_type": "stream",
     "text": [
      "real: comp.graphics\n",
      "predicted: alt.atheism\n",
      "document: here we go again\n",
      "---------------------------\n",
      "real: comp.graphics\n",
      "predicted: soc.religion.christian\n",
      "document: \n",
      "---------------------------\n"
     ]
    }
   ],
   "source": [
    "for i in range(10):\n",
    "    if (predicted_idf[i] != twenty_test.target[i]):\n",
    "        print('real:', categories[twenty_test.target[i]])\n",
    "        print('predicted:', categories[predicted_idf[i]])\n",
    "        print('document:', twenty_test_list[i])\n",
    "        print('---------------------------')"
   ]
  },
  {
   "cell_type": "markdown",
   "metadata": {},
   "source": [
    "Можно заметить, что в первой статье встречаются такие слова, как \"life\", \"grand-mother\", которые характерны для статей из обеих категорий.\n",
    "\n",
    "Во второй статье слишком мало слов для корректного определения."
   ]
  },
  {
   "cell_type": "markdown",
   "metadata": {},
   "source": [
    "## Confusion matrix"
   ]
  },
  {
   "cell_type": "code",
   "execution_count": 9,
   "metadata": {},
   "outputs": [],
   "source": [
    "def plot_confusion_matrix(cm, classes,\n",
    "                          normalize=False,\n",
    "                          title='Confusion matrix',\n",
    "                          cmap=plt.cm.Blues):\n",
    "    \"\"\"\n",
    "    This function prints and plots the confusion matrix.\n",
    "    Normalization can be applied by setting `normalize=True`.\n",
    "    \"\"\"\n",
    "    if normalize:\n",
    "        cm = cm.astype('float') / cm.sum(axis=1)[:, np.newaxis]\n",
    "        print(\"Normalized confusion matrix\")\n",
    "    else:\n",
    "        print('Confusion matrix, without normalization')\n",
    "\n",
    "    plt.imshow(cm, interpolation='nearest', cmap=cmap)\n",
    "    plt.title(title)\n",
    "    plt.colorbar()\n",
    "    tick_marks = np.arange(len(classes))\n",
    "    plt.xticks(tick_marks, classes, rotation=45)\n",
    "    plt.yticks(tick_marks, classes)\n",
    "\n",
    "    fmt = '.2f' if normalize else 'd'\n",
    "    thresh = cm.max() / 2.\n",
    "    for i, j in itertools.product(range(cm.shape[0]), range(cm.shape[1])):\n",
    "        plt.text(j, i, format(cm[i, j], fmt),\n",
    "                 horizontalalignment=\"center\",\n",
    "                 color=\"white\" if cm[i, j] > thresh else \"black\")\n",
    "\n",
    "    plt.tight_layout()\n",
    "    plt.ylabel('True label')\n",
    "    plt.xlabel('Predicted label')\n",
    "\n",
    "np.set_printoptions(precision=2)"
   ]
  },
  {
   "cell_type": "code",
   "execution_count": 10,
   "metadata": {
    "scrolled": true
   },
   "outputs": [
    {
     "name": "stdout",
     "output_type": "stream",
     "text": [
      "Confusion matrix, without normalization\n"
     ]
    },
    {
     "data": {
      "image/png": "[encoded data removed]",
      "text/plain": [
       "<Figure size 432x288 with 2 Axes>"
      ]
     },
     "metadata": {},
     "output_type": "display_data"
    }
   ],
   "source": [
    "cnf_matrix = metrics.confusion_matrix(twenty_test.target, predicted_idf)\n",
    "plt.figure()\n",
    "plot_confusion_matrix(cnf_matrix, classes=twenty_train.target_names,\n",
    "                      title='Confusion matrix, without normalization')\n",
    "\n",
    "plt.show()"
   ]
  },
  {
   "cell_type": "markdown",
   "metadata": {},
   "source": [
    "Наиболее частая ошибка определения категории возникает в теме религия и атеизм, что логично, так как темы весьма близкие. Лучше всего опредена компьютерная графика, т.к. имеет технические слова, по которым можно определить."
   ]
  },
  {
   "cell_type": "markdown",
   "metadata": {},
   "source": [
    "_________________________________"
   ]
  },
  {
   "cell_type": "markdown",
   "metadata": {},
   "source": [
    "## Алгоритм стемминга и лемматизации"
   ]
  },
  {
   "cell_type": "markdown",
   "metadata": {},
   "source": [
    "________"
   ]
  },
  {
   "cell_type": "code",
   "execution_count": 11,
   "metadata": {},
   "outputs": [
    {
     "name": "stdout",
     "output_type": "stream",
     "text": [
      "[nltk_data] Downloading package wordnet to\n",
      "[nltk_data]     C:\\Users\\Влад\\AppData\\Roaming\\nltk_data...\n",
      "[nltk_data]   Unzipping corpora\\wordnet.zip.\n"
     ]
    },
    {
     "data": {
      "text/plain": [
       "True"
      ]
     },
     "execution_count": 11,
     "metadata": {},
     "output_type": "execute_result"
    }
   ],
   "source": [
    "nltk.download('wordnet')"
   ]
  },
  {
   "cell_type": "code",
   "execution_count": 12,
   "metadata": {
    "scrolled": true
   },
   "outputs": [
    {
     "name": "stdout",
     "output_type": "stream",
     "text": [
      "[nltk_data] Downloading package stopwords to\n",
      "[nltk_data]     C:\\Users\\Влад\\AppData\\Roaming\\nltk_data...\n",
      "[nltk_data]   Package stopwords is already up-to-date!\n"
     ]
    },
    {
     "data": {
      "text/plain": [
       "True"
      ]
     },
     "execution_count": 12,
     "metadata": {},
     "output_type": "execute_result"
    }
   ],
   "source": [
    "nltk.download('stopwords')"
   ]
  },
  {
   "cell_type": "code",
   "execution_count": 13,
   "metadata": {},
   "outputs": [
    {
     "name": "stdout",
     "output_type": "stream",
     "text": [
      "[nltk_data] Downloading package averaged_perceptron_tagger to\n",
      "[nltk_data]     C:\\Users\\Влад\\AppData\\Roaming\\nltk_data...\n",
      "[nltk_data]   Package averaged_perceptron_tagger is already up-to-\n",
      "[nltk_data]       date!\n"
     ]
    },
    {
     "data": {
      "text/plain": [
       "True"
      ]
     },
     "execution_count": 13,
     "metadata": {},
     "output_type": "execute_result"
    }
   ],
   "source": [
    "nltk.download('averaged_perceptron_tagger')"
   ]
  },
  {
   "cell_type": "code",
   "execution_count": 14,
   "metadata": {},
   "outputs": [
    {
     "name": "stdout",
     "output_type": "stream",
     "text": [
      "doe anyon know of a good way standard pc applic pd util to convert tif img tga file into laserjet iii format we would also like to do the same convert to hpgl hp plotter file pleas email ani respons is this the correct group thank in advanc michael\n"
     ]
    }
   ],
   "source": [
    "stemmer = SnowballStemmer(language='english')\n",
    "\n",
    "twenty_train_stem=[]\n",
    "for elem in twenty_train_list:\n",
    "    twenty_train_stem.append(' '.join([stemmer.stem(word) for word in elem.split()]))\n",
    "print(twenty_train_stem[0])"
   ]
  },
  {
   "cell_type": "code",
   "execution_count": 15,
   "metadata": {},
   "outputs": [
    {
     "name": "stdout",
     "output_type": "stream",
     "text": [
      "as i recal from my bout with kidney stone there isn t ani medic that can do anyth about them except reliev the pain either they pass or they have to be broken up with sound or they have to be extract surgic when i was in the x ray tech happen to mention that she d had kidney stone and children and the childbirth hurt less\n"
     ]
    }
   ],
   "source": [
    "twenty_test_stem=[]\n",
    "for elem in twenty_test_list:\n",
    "    twenty_test_stem.append(' '.join([stemmer.stem(word) for word in elem.split()]))\n",
    "print(twenty_test_stem[0])"
   ]
  },
  {
   "cell_type": "code",
   "execution_count": 16,
   "metadata": {},
   "outputs": [
    {
     "name": "stdout",
     "output_type": "stream",
     "text": [
      "(2257, 20952)\n",
      "(1502, 20952)\n",
      "                        precision    recall  f1-score   support\n",
      "\n",
      "           alt.atheism       0.76      0.65      0.70       319\n",
      "         comp.graphics       0.84      0.90      0.87       389\n",
      "               sci.med       0.85      0.84      0.85       396\n",
      "soc.religion.christian       0.77      0.80      0.79       398\n",
      "\n",
      "           avg / total       0.81      0.81      0.81      1502\n",
      "\n",
      "0.7745537757873535 sec\n"
     ]
    }
   ],
   "source": [
    "begin = time.time()\n",
    "\n",
    "idf_vectorizer = TfidfVectorizer()\n",
    "X_train_idf = idf_vectorizer.fit_transform(twenty_train_stem)\n",
    "print(X_train_idf.shape)\n",
    "X_test_idf = idf_vectorizer.transform(twenty_test_stem)\n",
    "print(X_test_idf.shape)\n",
    "\n",
    "svm = SGDClassifier()\n",
    "svm.fit(X_train_idf, twenty_train.target)\n",
    "predicted_idf = svm.predict(X_test_idf)\n",
    "print(metrics.classification_report(twenty_test.target, predicted_idf,\n",
    "                                    target_names=twenty_test.target_names))\n",
    "\n",
    "end = time.time()\n",
    "print(end-begin,'sec')"
   ]
  },
  {
   "cell_type": "markdown",
   "metadata": {},
   "source": [
    "_________________________"
   ]
  },
  {
   "cell_type": "code",
   "execution_count": 17,
   "metadata": {},
   "outputs": [],
   "source": [
    "def get_wordnet_pos(treebank_tag):\n",
    "    my_switch = {\n",
    "        'J': wordnet.wordnet.ADJ,\n",
    "        'V': wordnet.wordnet.VERB,\n",
    "        'N': wordnet.wordnet.NOUN,\n",
    "        'R': wordnet.wordnet.ADV,\n",
    "    }\n",
    "    for key, item in my_switch.items():\n",
    "        if treebank_tag.startswith(key):\n",
    "            return item\n",
    "    return wordnet.wordnet.NOUN"
   ]
  },
  {
   "cell_type": "code",
   "execution_count": 18,
   "metadata": {},
   "outputs": [],
   "source": [
    "lemmatizer = WordNetLemmatizer()\n",
    "def my_lemmatizer(sent):\n",
    "    tokenized_sent = sent.split()\n",
    "    pos_tagged = [(word, get_wordnet_pos(tag))\n",
    "                 for word, tag in pos_tag(tokenized_sent)]\n",
    "    return ' '.join([lemmatizer.lemmatize(word, tag)\n",
    "                    for word, tag in pos_tagged])"
   ]
  },
  {
   "cell_type": "code",
   "execution_count": 19,
   "metadata": {},
   "outputs": [
    {
     "name": "stdout",
     "output_type": "stream",
     "text": [
      "2257\n",
      "1502\n"
     ]
    }
   ],
   "source": [
    "print(len(twenty_train_list))\n",
    "print(len(twenty_test_list))"
   ]
  },
  {
   "cell_type": "code",
   "execution_count": 20,
   "metadata": {},
   "outputs": [
    {
     "name": "stdout",
     "output_type": "stream",
     "text": [
      "do anyone know of a good way standard pc application pd utility to convert tif img tga file into laserjet iii format we would also like to do the same converting to hpgl hp plotter file please email any response be this the correct group thanks in advance michael\n"
     ]
    }
   ],
   "source": [
    "twenty_train_lem=[]\n",
    "for elem in twenty_train_list:\n",
    "     twenty_train_lem.append(my_lemmatizer(elem))\n",
    "print(twenty_train_lem[0])"
   ]
  },
  {
   "cell_type": "code",
   "execution_count": 21,
   "metadata": {},
   "outputs": [
    {
     "name": "stdout",
     "output_type": "stream",
     "text": [
      "a i recall from my bout with kidney stone there isn t any medication that can do anything about them except relieve the pain either they pass or they have to be break up with sound or they have to be extract surgically when i be in the x ray tech happen to mention that she d have kidney stone and child and the childbirth hurt less\n"
     ]
    }
   ],
   "source": [
    "twenty_test_lem=[]\n",
    "for elem in twenty_test_list:\n",
    "     twenty_test_lem.append(my_lemmatizer(elem))\n",
    "print(twenty_test_lem[0])"
   ]
  },
  {
   "cell_type": "code",
   "execution_count": 22,
   "metadata": {},
   "outputs": [
    {
     "name": "stdout",
     "output_type": "stream",
     "text": [
      "(2257, 24670)\n",
      "(1502, 24670)\n",
      "                        precision    recall  f1-score   support\n",
      "\n",
      "           alt.atheism       0.74      0.66      0.70       319\n",
      "         comp.graphics       0.84      0.90      0.87       389\n",
      "               sci.med       0.88      0.83      0.86       396\n",
      "soc.religion.christian       0.77      0.83      0.80       398\n",
      "\n",
      "           avg / total       0.81      0.81      0.81      1502\n",
      "\n",
      "0.7545645236968994 sec\n"
     ]
    }
   ],
   "source": [
    "begin = time.time()\n",
    "\n",
    "idf_vectorizer = TfidfVectorizer()\n",
    "X_train_idf = idf_vectorizer.fit_transform(twenty_train_lem)\n",
    "print(X_train_idf.shape)\n",
    "X_test_idf = idf_vectorizer.transform(twenty_test_lem)\n",
    "print(X_test_idf.shape)\n",
    "\n",
    "svm = SGDClassifier()\n",
    "svm.fit(X_train_idf, twenty_train.target)\n",
    "predicted_idf = svm.predict(X_test_idf)\n",
    "print(metrics.classification_report(twenty_test.target, predicted_idf,\n",
    "                                    target_names=twenty_test.target_names))\n",
    "\n",
    "end = time.time()\n",
    "print(end-begin,'sec')"
   ]
  },
  {
   "cell_type": "markdown",
   "metadata": {},
   "source": [
    "Сравним размерность признакового пространства, точность алгоритма и время работы.\n",
    "\n",
    "Для tfidfVectorizer без стемминга и лемминга:\n",
    "\n",
    "- Размер признакового пространства - 28864\n",
    "- Средняя точность по всем метрикам качества - 0.81\n",
    "- Время работы - 0.79 секунд\n",
    "\n",
    "Для tfidfVectorizer со стеммингом:\n",
    "\n",
    "- Размер признакового пространства - 20952\n",
    "- Средняя точность по всем recall и f1-score качества - 0.81, по precision - 0.82\n",
    "- Время работы - 0.76 секунд\n",
    "\n",
    "Для tfidfVectorizer с леммингом:\n",
    "\n",
    "- Размер признакового пространства - 24670\n",
    "- Средняя точность по всем метрикам качества - 0.81\n",
    "- Время работы - 0.71 секунд\n",
    "\n",
    "Заметим, что стемминг и лемминг уменьшают размер признакового пространства, причем в нашем случае, стемминг уменьшает сильнее.\n",
    "\n",
    "Время работы алгоритмы уменьшается вследствии применения стемминга или лемминга.\n",
    "\n",
    "Точность практически не изменяется (кроме увеличения presicion для стемминга)"
   ]
  },
  {
   "cell_type": "markdown",
   "metadata": {},
   "source": [
    "### Проверка при ограничении на частоту слов и стоп-слова"
   ]
  },
  {
   "cell_type": "code",
   "execution_count": 24,
   "metadata": {},
   "outputs": [
    {
     "name": "stdout",
     "output_type": "stream",
     "text": [
      "(2257, 28558)\n",
      "(1502, 28558)\n",
      "                        precision    recall  f1-score   support\n",
      "\n",
      "           alt.atheism       0.81      0.60      0.69       319\n",
      "         comp.graphics       0.82      0.93      0.87       389\n",
      "               sci.med       0.87      0.84      0.86       396\n",
      "soc.religion.christian       0.77      0.86      0.81       398\n",
      "\n",
      "           avg / total       0.82      0.82      0.81      1502\n",
      "\n",
      "0.7735557556152344 sec\n"
     ]
    }
   ],
   "source": [
    "begin = time.time()\n",
    "\n",
    "idf_vectorizer = TfidfVectorizer(stop_words='english')\n",
    "X_train_idf = idf_vectorizer.fit_transform(twenty_train_list)\n",
    "print(X_train_idf.shape)\n",
    "X_test_idf = idf_vectorizer.transform(twenty_test_list)\n",
    "print(X_test_idf.shape)\n",
    "\n",
    "svm = SGDClassifier()\n",
    "svm.fit(X_train_idf, twenty_train.target)\n",
    "predicted_idf = svm.predict(X_test_idf)\n",
    "print(metrics.classification_report(twenty_test.target, predicted_idf,\n",
    "                                    target_names=twenty_test.target_names))\n",
    "\n",
    "end = time.time()\n",
    "print(end-begin,'sec')"
   ]
  },
  {
   "cell_type": "code",
   "execution_count": 25,
   "metadata": {},
   "outputs": [
    {
     "name": "stdout",
     "output_type": "stream",
     "text": [
      "(2257, 28735)\n",
      "(1502, 28735)\n",
      "                        precision    recall  f1-score   support\n",
      "\n",
      "           alt.atheism       0.77      0.66      0.71       319\n",
      "         comp.graphics       0.84      0.92      0.88       389\n",
      "               sci.med       0.88      0.82      0.85       396\n",
      "soc.religion.christian       0.77      0.84      0.80       398\n",
      "\n",
      "           avg / total       0.82      0.82      0.81      1502\n",
      "\n",
      "0.7765529155731201 sec\n"
     ]
    }
   ],
   "source": [
    "begin = time.time()\n",
    "\n",
    "idf_vectorizer = TfidfVectorizer(max_df=0.1)\n",
    "X_train_idf = idf_vectorizer.fit_transform(twenty_train_list)\n",
    "print(X_train_idf.shape)\n",
    "X_test_idf = idf_vectorizer.transform(twenty_test_list)\n",
    "print(X_test_idf.shape)\n",
    "\n",
    "svm = SGDClassifier()\n",
    "svm.fit(X_train_idf, twenty_train.target)\n",
    "predicted_idf = svm.predict(X_test_idf)\n",
    "print(metrics.classification_report(twenty_test.target, predicted_idf,\n",
    "                                    target_names=twenty_test.target_names))\n",
    "\n",
    "end = time.time()\n",
    "print(end-begin,'sec')"
   ]
  },
  {
   "cell_type": "code",
   "execution_count": 26,
   "metadata": {},
   "outputs": [
    {
     "name": "stdout",
     "output_type": "stream",
     "text": [
      "(2257, 27348)\n",
      "(1502, 27348)\n",
      "                        precision    recall  f1-score   support\n",
      "\n",
      "           alt.atheism       0.76      0.53      0.62       319\n",
      "         comp.graphics       0.90      0.83      0.86       389\n",
      "               sci.med       0.74      0.84      0.78       396\n",
      "soc.religion.christian       0.70      0.82      0.75       398\n",
      "\n",
      "           avg / total       0.77      0.77      0.76      1502\n",
      "\n",
      "0.8225226402282715 sec\n"
     ]
    }
   ],
   "source": [
    "begin = time.time()\n",
    "\n",
    "idf_vectorizer = TfidfVectorizer(max_df=0.01)\n",
    "X_train_idf = idf_vectorizer.fit_transform(twenty_train_list)\n",
    "print(X_train_idf.shape)\n",
    "X_test_idf = idf_vectorizer.transform(twenty_test_list)\n",
    "print(X_test_idf.shape)\n",
    "\n",
    "svm = SGDClassifier()\n",
    "svm.fit(X_train_idf, twenty_train.target)\n",
    "predicted_idf = svm.predict(X_test_idf)\n",
    "print(metrics.classification_report(twenty_test.target, predicted_idf,\n",
    "                                    target_names=twenty_test.target_names))\n",
    "\n",
    "end = time.time()\n",
    "print(end-begin,'sec')"
   ]
  },
  {
   "cell_type": "code",
   "execution_count": 27,
   "metadata": {},
   "outputs": [
    {
     "name": "stdout",
     "output_type": "stream",
     "text": [
      "(2257, 9189)\n",
      "(1502, 9189)\n",
      "                        precision    recall  f1-score   support\n",
      "\n",
      "           alt.atheism       0.79      0.63      0.70       319\n",
      "         comp.graphics       0.82      0.91      0.86       389\n",
      "               sci.med       0.87      0.80      0.84       396\n",
      "soc.religion.christian       0.76      0.86      0.81       398\n",
      "\n",
      "           avg / total       0.81      0.81      0.81      1502\n",
      "\n",
      "0.8485102653503418 sec\n"
     ]
    }
   ],
   "source": [
    "begin = time.time()\n",
    "\n",
    "idf_vectorizer = TfidfVectorizer(min_df=0.001)\n",
    "X_train_idf = idf_vectorizer.fit_transform(twenty_train_list)\n",
    "print(X_train_idf.shape)\n",
    "X_test_idf = idf_vectorizer.transform(twenty_test_list)\n",
    "print(X_test_idf.shape)\n",
    "\n",
    "svm = SGDClassifier()\n",
    "svm.fit(X_train_idf, twenty_train.target)\n",
    "predicted_idf = svm.predict(X_test_idf)\n",
    "print(metrics.classification_report(twenty_test.target, predicted_idf,\n",
    "                                    target_names=twenty_test.target_names))\n",
    "\n",
    "end = time.time()\n",
    "print(end-begin,'sec')"
   ]
  },
  {
   "cell_type": "markdown",
   "metadata": {},
   "source": [
    "Заметим, что ограничение снизу, если отсекает много слов, то в отрицательную сторону влияет на качество, уменьшает время выполнения\n",
    "\n",
    "Ограничение сверху улучшило результат, уменьшает время выполнения\n",
    "\n",
    "Отсечение стоп-слов улучшило результат, уменьшает время выполнения"
   ]
  },
  {
   "cell_type": "code",
   "execution_count": 29,
   "metadata": {},
   "outputs": [
    {
     "name": "stdout",
     "output_type": "stream",
     "text": [
      "(2257, 8868)\n",
      "(1502, 8868)\n",
      "                        precision    recall  f1-score   support\n",
      "\n",
      "           alt.atheism       0.76      0.66      0.70       319\n",
      "         comp.graphics       0.82      0.90      0.86       389\n",
      "               sci.med       0.86      0.83      0.84       396\n",
      "soc.religion.christian       0.80      0.84      0.82       398\n",
      "\n",
      "           avg / total       0.81      0.81      0.81      1502\n",
      "\n",
      "0.7345778942108154 sec\n"
     ]
    }
   ],
   "source": [
    "begin = time.time()\n",
    "\n",
    "idf_vectorizer = TfidfVectorizer(stop_words='english', max_df=0.1, min_df=0.001)\n",
    "X_train_idf = idf_vectorizer.fit_transform(twenty_train_list)\n",
    "print(X_train_idf.shape)\n",
    "X_test_idf = idf_vectorizer.transform(twenty_test_list)\n",
    "print(X_test_idf.shape)\n",
    "\n",
    "svm = SGDClassifier()\n",
    "svm.fit(X_train_idf, twenty_train.target)\n",
    "predicted_idf = svm.predict(X_test_idf)\n",
    "print(metrics.classification_report(twenty_test.target, predicted_idf,\n",
    "                                    target_names=twenty_test.target_names))\n",
    "\n",
    "end = time.time()\n",
    "print(end-begin,'sec')"
   ]
  },
  {
   "cell_type": "markdown",
   "metadata": {},
   "source": [
    "Применив все вместе, заметим, что алгоритм работает быстрее, чем во всех проведенных до этого экспериментах, качетсво наивысшее, размер признакого пространства уменьшился с 28+ тысяч до 8800. То есть почти 20 тысяч выделенных изначально признаков совсем незначительно влияют на качество классификации."
   ]
  }
 ],
 "metadata": {
  "kernelspec": {
   "display_name": "Python 3",
   "language": "python",
   "name": "python3"
  },
  "language_info": {
   "codemirror_mode": {
    "name": "ipython",
    "version": 3
   },
   "file_extension": ".py",
   "mimetype": "text/x-python",
   "name": "python",
   "nbconvert_exporter": "python",
   "pygments_lexer": "ipython3",
   "version": "3.6.5"
  }
 },
 "nbformat": 4,
 "nbformat_minor": 2
}
